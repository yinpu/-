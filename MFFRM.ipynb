{
  "nbformat": 4,
  "nbformat_minor": 0,
  "metadata": {
    "kernelspec": {
      "display_name": "Python 3.7.4 64-bit ('base': conda)",
      "language": "python",
      "name": "python37464bitbaseconda8317c0537c71407593938dcfd2c11d92"
    },
    "language_info": {
      "codemirror_mode": {
        "name": "ipython",
        "version": 3
      },
      "file_extension": ".py",
      "mimetype": "text/x-python",
      "name": "python",
      "nbconvert_exporter": "python",
      "pygments_lexer": "ipython3",
      "version": "3.7.4"
    },
    "colab": {
      "name": "未命名.ipynb",
      "provenance": [],
      "toc_visible": true,
      "include_colab_link": true
    },
    "accelerator": "GPU"
  },
  "cells": [
    {
      "cell_type": "markdown",
      "metadata": {
        "id": "view-in-github",
        "colab_type": "text"
      },
      "source": [
        "<a href=\"https://colab.research.google.com/github/yinpu/deep_learning_study/blob/master/MFFRM.ipynb\" target=\"_parent\"><img src=\"https://colab.research.google.com/assets/colab-badge.svg\" alt=\"Open In Colab\"/></a>"
      ]
    },
    {
      "cell_type": "markdown",
      "metadata": {
        "id": "6j7_lNqESFW3",
        "colab_type": "text"
      },
      "source": [
        "# 数据预处理"
      ]
    },
    {
      "cell_type": "code",
      "metadata": {
        "id": "fMIItJopSFW4",
        "colab_type": "code",
        "colab": {}
      },
      "source": [
        "#数据预处理函数\n",
        "import numpy as np\n",
        "import os\n",
        "import  tensorflow as tf\n",
        "\n",
        "RATING_FILE_NAME={\n",
        "    'movie': 'ratings.dat',\n",
        "    'book':'BX-Book-Ratings.csv',\n",
        "    'music':'user_artists.dat'\n",
        "}\n",
        "SEP={\n",
        "    'movie':'::',\n",
        "    'book':';',\n",
        "    'music':'\\t'\n",
        "}\n",
        "THRESHOLD={\n",
        "    'movie':4,\n",
        "    'book':0,\n",
        "    'music':0\n",
        "}\n",
        "DATASETS={'movie','book','music'}\n",
        "\n",
        "def read_item_index2entity_id_file():\n",
        "    file = './data/'+DATASET+'/item_index2entity_id.txt'\n",
        "    i=0\n",
        "    for line in open(file,encoding='utf-8').readlines():\n",
        "        item_index=line.strip().split('\\t')[0]\n",
        "        satori_id=line.strip().split('\\t')[1]\n",
        "        item_index_old2new[item_index]=i\n",
        "        entity_id2index[satori_id]=i\n",
        "        i+=1\n",
        "        \n",
        "def convert_rating():\n",
        "    file = './data/'+DATASET+'/'+RATING_FILE_NAME[DATASET]\n",
        "    item_set=set(item_index_old2new.values())\n",
        "    user_pos_rating={}\n",
        "    user_neg_rating={}\n",
        "    for line in open(file,encoding='utf-8').readlines():\n",
        "        array =line.strip().split(SEP[DATASET])\n",
        "        if DATASET=='book':\n",
        "            array=list(map(lambda x:x[1:-1],array))\n",
        "        item_index_old=array[1]\n",
        "        if item_index_old not in item_index_old2new:\n",
        "            continue\n",
        "        item_index=item_index_old2new[item_index_old]\n",
        "        user_index_old=int(array[0])\n",
        "        rating=float(array[2])\n",
        "        if rating >=THRESHOLD[DATASET]:\n",
        "            if user_index_old not in user_pos_rating:\n",
        "                user_pos_rating[user_index_old]=set()\n",
        "            user_pos_rating[user_index_old].add(item_index)\n",
        "        else:\n",
        "            if user_index_old not in user_neg_rating:\n",
        "                user_neg_rating[user_index_old]=set()\n",
        "            user_neg_rating[user_index_old].add(item_index)\n",
        "    print('coverting rating file . . .')\n",
        "    writer=open('data/'+DATASET+'/rating_final.txt','w',encoding='utf-8')\n",
        "    user_cnt=0\n",
        "    user_index_old2new={}\n",
        "    for user_index_old,pos_item_set in user_pos_rating.items():\n",
        "        if user_index_old not in user_index_old2new:\n",
        "            user_index_old2new[user_index_old]=user_cnt\n",
        "            user_cnt+=1\n",
        "        user_index=user_index_old2new[user_index_old]\n",
        "        for item in pos_item_set:\n",
        "            writer.write(\"%d\\t%d\\t1\\n\"%(user_index,item))\n",
        "        unwatch_set=item_set-pos_item_set\n",
        "        if user_index_old in user_neg_rating:\n",
        "            unwatch_set-=user_neg_rating[user_index_old]\n",
        "        for item in np.random.choice(list(unwatch_set),size=len(pos_item_set),replace=False):\n",
        "            writer.write(\"%d\\t%d\\t0\\n\"%(user_index,item))\n",
        "    writer.close()\n",
        "    print(\"num of users:\",user_cnt)\n",
        "    print(\"num of item:\",len(item_set))\n",
        "\n",
        "def convert_kg():\n",
        "    print('converting kg.txt file')\n",
        "    entity_cnt=len(entity_id2index)\n",
        "    relation_cnt=0\n",
        "    writer=open('data/'+DATASET+'/kg_final.txt','w',encoding='utf-8')\n",
        "    file=open('data/'+DATASET+'/kg.txt','r',encoding='utf-8')\n",
        "    for line in file:\n",
        "        array=line.strip().split('\\t')\n",
        "        head_old=array[0]\n",
        "        relation_old=array[1]\n",
        "        tail_old=array[2]\n",
        "        if head_old not in entity_id2index:\n",
        "            continue\n",
        "        head=entity_id2index[head_old]\n",
        "        if tail_old not in entity_id2index:\n",
        "            entity_id2index[tail_old]=entity_cnt\n",
        "            entity_cnt+=1\n",
        "        tail=entity_id2index[tail_old]\n",
        "        if relation_old not in relation_id2index:\n",
        "            relation_id2index[relation_old]=relation_cnt\n",
        "            relation_cnt+=1\n",
        "        relation=relation_id2index[relation_old]\n",
        "        writer.write(\"%d\\t%d\\t%d\\n\"%(head,relation,tail))\n",
        "    writer.close()\n",
        "    print('num of entities:',entity_cnt)\n",
        "    print('num of relations:',relation_cnt)\n"
      ],
      "execution_count": null,
      "outputs": []
    },
    {
      "cell_type": "code",
      "metadata": {
        "id": "_aXf42_KSFW9",
        "colab_type": "code",
        "colab": {},
        "outputId": "8d418e0a-b13a-4492-8287-37c73f9f4014"
      },
      "source": [
        "#数据集处理\n",
        "for DATASET in DATASETS:\n",
        "    print(DATASET+\"  :   \")\n",
        "    np.random.seed(555)\n",
        "    entity_id2index={}\n",
        "    relation_id2index={}\n",
        "    item_index_old2new={}\n",
        "    read_item_index2entity_id_file()\n",
        "    convert_rating()\n",
        "    convert_kg()"
      ],
      "execution_count": null,
      "outputs": [
        {
          "output_type": "stream",
          "text": [
            "movie  :   \n",
            "coverting rating file . . .\n",
            "num of users: 6036\n",
            "num of item: 2347\n",
            "converting kg.txt file\n",
            "num of entities: 6729\n",
            "num of relations: 7\n",
            "book  :   \n",
            "coverting rating file . . .\n",
            "num of users: 17860\n",
            "num of item: 14910\n",
            "converting kg.txt file\n",
            "num of entities: 24039\n",
            "num of relations: 10\n",
            "music  :   \n",
            "coverting rating file . . .\n",
            "num of users: 1872\n",
            "num of item: 3846\n",
            "converting kg.txt file\n",
            "num of entities: 9366\n",
            "num of relations: 60\n"
          ],
          "name": "stdout"
        }
      ]
    },
    {
      "cell_type": "markdown",
      "metadata": {
        "id": "ztRbFddwSFXC",
        "colab_type": "text"
      },
      "source": [
        "# 数据加载"
      ]
    },
    {
      "cell_type": "code",
      "metadata": {
        "id": "EUBpVkZFSFXC",
        "colab_type": "code",
        "colab": {}
      },
      "source": [
        "def load_data(DATASET):\n",
        "    n_user,n_item,train_data,eval_data,test_data=load_rating(DATASET)\n",
        "    n_entity,n_relation,kg=load_kg(DATASET)\n",
        "    print('data loaded')\n",
        "    return n_user,n_item,n_entity,n_relation,train_data,eval_data,test_data,kg\n",
        "\n",
        "def load_rating(DATASET):\n",
        "    print('reading rating file ....')\n",
        "    rating_file='data/'+DATASET+'/rating_final'\n",
        "    if os.path.exists(rating_file+'.npy'):\n",
        "        rating_np=np.load(rating_file+'.npy')\n",
        "    else:\n",
        "        rating_np=np.loadtxt(rating_file+'.txt',dtype=np.int32)\n",
        "        np.save(rating_file+'.npy',rating_np)\n",
        "    n_user=len(set(rating_np[:,0]))\n",
        "    n_item=len(set(rating_np[:,1]))\n",
        "    train_data,eval_data,test_data=dataset_split(rating_np)\n",
        "    return n_user,n_item,train_data,eval_data,test_data\n",
        "\n",
        "def dataset_split(rating_np):\n",
        "    print('splitting dataset ...')\n",
        "    eval_ratio=0.2\n",
        "    test_ration=0.2\n",
        "    n_rating=rating_np.shape[0]\n",
        "    eval_indices=np.random.choice(list(range(n_rating)),size=int(n_rating*eval_ratio),replace=False)\n",
        "    left=set(range(n_rating))-set(eval_indices)\n",
        "    test_indices=np.random.choice(list(left),size=int(n_rating*test_ration),replace=False)\n",
        "    train_indices=list(left-set(test_indices))\n",
        "    train_data,eval_data,test_data=rating_np[train_indices],rating_np[eval_indices],rating_np[test_indices]\n",
        "    return train_data,eval_data,test_data\n",
        "def load_kg(DATASET):\n",
        "    print('reading KG file')\n",
        "    kg_file='data/'+DATASET+'/kg_final'\n",
        "    if os.path.exists(kg_file + '.npy'):\n",
        "        kg = np.load(kg_file + '.npy')\n",
        "    else:\n",
        "        kg = np.loadtxt(kg_file + '.txt', dtype=np.int32)\n",
        "        np.save(kg_file + '.npy', kg)\n",
        "    n_entity=len(set(kg[:,0])|set(kg[:,2]))\n",
        "    n_relation=len(set(kg[:,1]))\n",
        "    return n_entity,n_relation,kg"
      ],
      "execution_count": null,
      "outputs": []
    },
    {
      "cell_type": "markdown",
      "metadata": {
        "id": "fOzmTCHzSFXG",
        "colab_type": "text"
      },
      "source": [
        "# 交叉压缩层"
      ]
    },
    {
      "cell_type": "code",
      "metadata": {
        "id": "sGBb2dx4SFXG",
        "colab_type": "code",
        "colab": {}
      },
      "source": [
        "class CrossLayer(tf.keras.layers.Layer):\n",
        "    def __init__(self,**kwargs):\n",
        "        super(CrossLayer,self).__init__(**kwargs)\n",
        "    def call(self, inputs,):\n",
        "        v,e=inputs\n",
        "        v=tf.expand_dims(v,axis=2)\n",
        "        e=tf.expand_dims(e,axis=1)\n",
        "        c_matrix=v@e\n",
        "        c_matrix_t=tf.transpose(c_matrix,perm=[0,2,1])\n",
        "        return c_matrix,c_matrix_t\n",
        "    def get_config(self):\n",
        "        config = {}\n",
        "        base_config = super(CrossLayer, self).get_config()\n",
        "        return dict(list(base_config.items()) + list(config.items()))\n",
        "\n",
        "class CompressLayer(tf.keras.layers.Layer):\n",
        "    def __init__(self,weight_regularizer,**kwargs):\n",
        "        super(CompressLayer,self).__init__(**kwargs)\n",
        "        self.weight_regularizer=tf.keras.regularizers.get(weight_regularizer)\n",
        "    def build(self, input_shape):\n",
        "        self.dim=input_shape[0][-1]\n",
        "        self.kernel=self.add_weight(name='kernel',shape=(self.dim,1),regularizer=self.weight_regularizer)\n",
        "        self.kernel_t=self.add_weight(name='kernel_t',shape=(self.dim,1),regularizer=self.weight_regularizer)\n",
        "        self.bias=self.add_weight(name='bias',shape=(self.dim,),initializer=tf.initializers.zeros)\n",
        "    def call(self, inputs):\n",
        "        c_matrix,c_matrix_t=inputs\n",
        "        c_matrix=tf.reshape(c_matrix,shape=(-1,self.dim))\n",
        "        c_matrix_t=tf.reshape(c_matrix_t,shape=(-1,self.dim))\n",
        "        return tf.reshape(c_matrix@self.kernel+c_matrix_t@self.kernel_t,shape=(-1,self.dim))+self.bias\n",
        "    def get_config(self):\n",
        "        config = {\n",
        "            'weight_regularizer': tf.keras.regularizers.serialize(self.weight_regularizer)\n",
        "        }\n",
        "        base_config = super(CompressLayer, self).get_config()\n",
        "        return dict(list(base_config.items()) + list(config.items()))\n",
        "\n",
        "def cross_compress_unit(inputs,weight_regularizer):\n",
        "    v,e=inputs\n",
        "    dim=v.shape[-1]\n",
        "    v=tf.keras.layers.Dense(dim,activation=None,kernel_initializer=tf.keras.initializers.identity(1.0),bias_initializer=tf.keras.initializers.zeros(),kernel_regularizer=weight_regularizer)(v)\n",
        "    e=tf.keras.layers.Dense(dim,activation=None,kernel_initializer=tf.keras.initializers.identity(1.0),bias_initializer=tf.keras.initializers.zeros(),kernel_regularizer=weight_regularizer)(e)\n",
        "    cross_feature_matrix=CrossLayer()((v,e))\n",
        "    v_out=CompressLayer(weight_regularizer)(cross_feature_matrix)\n",
        "    e_out=CompressLayer(weight_regularizer)(cross_feature_matrix)\n",
        "    return v_out,e_out"
      ],
      "execution_count": null,
      "outputs": []
    },
    {
      "cell_type": "markdown",
      "metadata": {
        "id": "8d7rQ8BgSFXJ",
        "colab_type": "text"
      },
      "source": [
        "# 模型定义"
      ]
    },
    {
      "cell_type": "code",
      "metadata": {
        "id": "zIfTuFy-SFXK",
        "colab_type": "code",
        "colab": {}
      },
      "source": [
        "def DFM_MKR_model(n_user,n_item,n_entity,n_relation,dim=8,L=1,H=1,l2=1e-6,use_inner_product=True):\n",
        "    l2=tf.keras.regularizers.l2(l2)\n",
        "    user_id=tf.keras.Input(shape=(),dtype=tf.int32,name='user_id')\n",
        "    item_id=tf.keras.Input(shape=(),dtype=tf.int32,name='item_id')\n",
        "    head_id=tf.keras.Input(shape=(),dtype=tf.int32,name='head_id')\n",
        "    relation_id=tf.keras.Input(shape=(),dtype=tf.int32,name='relation_id')\n",
        "    tail_id=tf.keras.Input(shape=(),dtype=tf.int32,name='tail_id')\n",
        "    user_embedding=tf.keras.layers.Embedding(input_dim=n_user,output_dim=dim,\n",
        "                                             embeddings_regularizer=l2)\n",
        "    item_embedding=tf.keras.layers.Embedding(input_dim=n_item,output_dim=dim,\n",
        "                                             embeddings_regularizer=l2)\n",
        "    entity_embedding=tf.keras.layers.Embedding(input_dim=n_entity,output_dim=dim,\n",
        "                                               embeddings_regularizer=l2)\n",
        "    relation_embedding=tf.keras.layers.Embedding(input_dim=n_relation,output_dim=dim,\n",
        "                                               embeddings_regularizer=l2)\n",
        "    u=user_embedding(user_id)\n",
        "    i=item_embedding(item_id)\n",
        "    h=entity_embedding(head_id)\n",
        "    t=entity_embedding(tail_id)\n",
        "    r=relation_embedding(relation_id)\n",
        "    for _ in range(L):\n",
        "        u=tf.keras.layers.Dense(dim,activation=tf.keras.activations.relu,kernel_regularizer=l2)(u)\n",
        "        i,h=cross_compress_unit(inputs=(i,h),weight_regularizer=l2)\n",
        "        t=tf.keras.layers.Dense(dim,activation=tf.keras.activations.relu,kernel_regularizer=l2)(t)\n",
        "\n",
        "    rs=tf.keras.activations.relu(u*i)\n",
        "    for _ in range(H-1):\n",
        "        rs=tf.keras.layers.Dense(dim,activation=tf.keras.activations.relu,kernel_regularizer=l2)(rs)\n",
        "    rs=tf.keras.layers.Dense(1,activation=tf.keras.activations.sigmoid,kernel_regularizer=l2)(rs)\n",
        "\n",
        "    kg = tf.concat([h, r], axis=1)\n",
        "    for _ in range(H - 1):\n",
        "        kg = tf.keras.layers.Dense(dim * 2, activation=tf.keras.activations.relu, kernel_regularizer=l2)(kg)\n",
        "    kg = tf.keras.layers.Dense(dim, activation=tf.keras.activations.sigmoid, kernel_regularizer=l2)(kg)\n",
        "    kg=-tf.keras.activations.sigmoid(tf.reduce_sum(kg*t,axis=1))\n",
        "    return tf.keras.Model(inputs=[user_id,item_id,head_id],outputs=rs),tf.keras.Model(inputs=[item_id,head_id,relation_id,tail_id],outputs=kg)\n"
      ],
      "execution_count": null,
      "outputs": []
    },
    {
      "cell_type": "markdown",
      "metadata": {
        "id": "YED-oqs9SFXN",
        "colab_type": "text"
      },
      "source": [
        "# 训练函数"
      ]
    },
    {
      "cell_type": "code",
      "metadata": {
        "id": "08hg6gjkSFXO",
        "colab_type": "code",
        "colab": {}
      },
      "source": [
        "def preprocess_rs_data(data):\n",
        "    u = tf.constant(data[:, 0], dtype=tf.int32)\n",
        "    i = tf.constant(data[:, 1], dtype=tf.int32)\n",
        "    h = tf.constant(data[:, 1], dtype=tf.int32)\n",
        "    r = tf.constant(data[:, 2], dtype=tf.float32)\n",
        "    return {'user_id': u, 'item_id': i, 'head_id': h}, r\n",
        "\n",
        "\n",
        "def preprocess_kg_data(data):\n",
        "    i = tf.constant(data[:, 0], dtype=tf.int32)\n",
        "    h = tf.constant(data[:, 0], dtype=tf.int32)\n",
        "    r = tf.constant(data[:, 1], dtype=tf.int32)\n",
        "    t = tf.constant(data[:, 2], dtype=tf.int32)\n",
        "    l = tf.zeros(len(data), dtype=tf.float32)\n",
        "    return {'item_id': i, 'head_id': h, 'relation_id': r, 'tail_id': t}, l\n",
        "\n",
        "\n",
        "def train(DATASET, DEFAULT):\n",
        "    n_user, n_item, n_entity, n_relation, train_data, eval_data, test_data, kg =load_data(DATASET)\n",
        "    rs_model, kg_model = DFM_MKR_model(n_user, n_item, n_entity, n_relation, dim=DEFAULT[DATASET]['dim'], H=DEFAULT[DATASET]['H'],L=DEFAULT[DATASET]['L'])\n",
        "    epochs = DEFAULT[DATASET]['epochs']\n",
        "    kge_interval = DEFAULT[DATASET]['kge_interval']\n",
        "    batch = DEFAULT[DATASET]['batch_size']\n",
        "    rs_train_ds = tf.data.Dataset.from_tensor_slices(preprocess_rs_data(train_data))\n",
        "    rs_train_ds = rs_train_ds.shuffle(len(train_data)).batch(batch)\n",
        "    rs_eval_ds = tf.data.Dataset.from_tensor_slices(preprocess_rs_data(eval_data))\n",
        "    rs_eval_ds = rs_eval_ds.batch(batch)\n",
        "    kg_train_ds = tf.data.Dataset.from_tensor_slices(preprocess_kg_data(kg))\n",
        "    kg_train_ds = kg_train_ds.shuffle(len(kg)).batch(batch)\n",
        "    rs_model.compile(optimizer=tf.optimizers.Adam( DEFAULT[DATASET]['lr_rs']), loss=tf.keras.losses.binary_crossentropy,\n",
        "                     metrics=['AUC', tf.keras.metrics.binary_accuracy])\n",
        "    kg_model.compile(optimizer=tf.optimizers.Adam(DEFAULT[DATASET]['lr_kg']), loss=lambda y_true, y_pre: y_pre)\n",
        "    for epoch in range(epochs):\n",
        "        history=rs_model.fit(rs_train_ds, epochs=epoch + 1, validation_data=rs_eval_ds, verbose=1, initial_epoch=epoch)\n",
        "        if epoch % kge_interval == 0:\n",
        "            kg_model.fit(kg_train_ds, epochs=epoch + 1, initial_epoch=epoch, verbose=1)\n",
        "        rs_model.save('./log/' + DATASET + '/model/model_' + str(epoch) + '.h5')\n",
        "    return history"
      ],
      "execution_count": null,
      "outputs": []
    },
    {
      "cell_type": "markdown",
      "metadata": {
        "id": "GKh0tKMmSFXR",
        "colab_type": "text"
      },
      "source": [
        "# topk测试"
      ]
    },
    {
      "cell_type": "code",
      "metadata": {
        "id": "dqZks0_hSFXS",
        "colab_type": "code",
        "colab": {}
      },
      "source": [
        "def get_user_recoed(data, is_train):\n",
        "    user_history_dict = {}\n",
        "    for interaction in data:\n",
        "        user = interaction[0]\n",
        "        item = interaction[1]\n",
        "        label = interaction[2]\n",
        "        if is_train or label == 1:\n",
        "            if user not in user_history_dict:\n",
        "                user_history_dict[user] = set()\n",
        "            user_history_dict[user].add(item)\n",
        "    return user_history_dict\n",
        "\n",
        "\n",
        "def topk_eval(model, user_list, train_record, test_record, item_set, k_list):\n",
        "    precision_list = {k: [] for k in k_list}\n",
        "    recall_list = {k: [] for k in k_list}\n",
        "    for user in user_list:\n",
        "        test_item_list = list(item_set - train_record[user])\n",
        "        item_score_map = {}\n",
        "        score = model({'user_id': tf.constant([user] * len(test_item_list)), \n",
        "                       'item_id': tf.constant(test_item_list), \n",
        "                       'head_id': tf.constant(test_item_list)})\n",
        "        for item, score in zip(test_item_list, score):\n",
        "            score=float(score)\n",
        "            item_score_map[item] = score\n",
        "        item_score_map_sorted = sorted(item_score_map.items(), key=lambda x: x[1], reverse=True)\n",
        "        item_sorted = [i[0] for i in item_score_map_sorted]\n",
        "        for k in k_list:\n",
        "            hit_num = len(set(item_sorted[:k]) & test_record[user])\n",
        "            precision_list[k].append(hit_num / k)\n",
        "            recall_list[k].append(hit_num / len(test_record[user]))\n",
        "    precision={}\n",
        "    recall={}\n",
        "    for k in k_list: \n",
        "        precision[k] = np.mean(precision_list[k]) \n",
        "        recall[k] = np.mean(recall_list[k]) \n",
        "    return precision, recall"
      ],
      "execution_count": null,
      "outputs": []
    },
    {
      "cell_type": "markdown",
      "metadata": {
        "id": "0ZqYZ4IeSFXV",
        "colab_type": "text"
      },
      "source": [
        "# movie-len数据集"
      ]
    },
    {
      "cell_type": "code",
      "metadata": {
        "id": "gxt9UXp9SFXW",
        "colab_type": "code",
        "colab": {},
        "outputId": "ca60c184-38a2-46ec-f4d0-00f4ef920cb7"
      },
      "source": [
        "DEFAULT={\n",
        "        'movie': {'epochs': 70, 'dim': 8, 'L': 1, 'H': 1, 'batch_size': 4096, 'lr_rs': 0.02, 'lr_kg': 0.01,\n",
        "                  'kge_interval': 3},\n",
        "        'book': {'epochs': 10, 'dim': 8, 'L': 1, 'H': 1, 'batch_size': 32, 'lr_rs': 2e-4, 'lr_kg': 2e-5,\n",
        "                 'kge_interval': 2},\n",
        "        'music': {'epochs': 10, 'dim': 4, 'L': 2, 'H': 1, 'batch_size': 256, 'lr_rs': 1e-3, 'lr_kg': 2e-4,\n",
        "                  'kge_interval': 2}\n",
        "    }\n",
        "DATASET='movie'\n",
        "tf.random.set_seed(555)\n",
        "history=train(DATASET,DEFAULT)"
      ],
      "execution_count": null,
      "outputs": [
        {
          "output_type": "stream",
          "text": [
            "reading rating file ....\n",
            "splitting dataset ...\n",
            "reading KG file\n",
            "data loaded\n",
            "Train for 111 steps, validate for 37 steps\n"
          ],
          "name": "stdout"
        },
        {
          "output_type": "stream",
          "text": [
            "/home/yinpu/anaconda3/lib/python3.7/site-packages/tensorflow_core/python/framework/indexed_slices.py:433: UserWarning: Converting sparse IndexedSlices to a dense Tensor of unknown shape. This may consume a large amount of memory.\n",
            "  \"Converting sparse IndexedSlices to a dense Tensor of unknown shape. \"\n",
            "/home/yinpu/anaconda3/lib/python3.7/site-packages/tensorflow_core/python/framework/indexed_slices.py:433: UserWarning: Converting sparse IndexedSlices to a dense Tensor of unknown shape. This may consume a large amount of memory.\n",
            "  \"Converting sparse IndexedSlices to a dense Tensor of unknown shape. \"\n"
          ],
          "name": "stderr"
        },
        {
          "output_type": "stream",
          "text": [
            "111/111 [==============================] - 5s 41ms/step - loss: 0.4974 - AUC: 0.8390 - binary_accuracy: 0.7493 - val_loss: 0.4273 - val_AUC: 0.8858 - val_binary_accuracy: 0.8026\n",
            "Train for 5 steps\n"
          ],
          "name": "stdout"
        },
        {
          "output_type": "stream",
          "text": [
            "/home/yinpu/anaconda3/lib/python3.7/site-packages/tensorflow_core/python/framework/indexed_slices.py:433: UserWarning: Converting sparse IndexedSlices to a dense Tensor of unknown shape. This may consume a large amount of memory.\n",
            "  \"Converting sparse IndexedSlices to a dense Tensor of unknown shape. \"\n",
            "/home/yinpu/anaconda3/lib/python3.7/site-packages/tensorflow_core/python/framework/indexed_slices.py:433: UserWarning: Converting sparse IndexedSlices to a dense Tensor of unknown shape. This may consume a large amount of memory.\n",
            "  \"Converting sparse IndexedSlices to a dense Tensor of unknown shape. \"\n"
          ],
          "name": "stderr"
        },
        {
          "output_type": "stream",
          "text": [
            "5/5 [==============================] - 1s 141ms/step - loss: -0.5274\n",
            "Train for 111 steps, validate for 37 steps\n",
            "Epoch 2/2\n",
            "111/111 [==============================] - 4s 33ms/step - loss: 0.4175 - AUC: 0.8903 - binary_accuracy: 0.8068 - val_loss: 0.4260 - val_AUC: 0.8868 - val_binary_accuracy: 0.8034\n",
            "Train for 111 steps, validate for 37 steps\n",
            "Epoch 3/3\n",
            "111/111 [==============================] - 3s 31ms/step - loss: 0.4113 - AUC: 0.8939 - binary_accuracy: 0.8116 - val_loss: 0.4227 - val_AUC: 0.8892 - val_binary_accuracy: 0.8085\n",
            "Train for 111 steps, validate for 37 steps\n",
            "Epoch 4/4\n",
            "111/111 [==============================] - 4s 32ms/step - loss: 0.4009 - AUC: 0.8993 - binary_accuracy: 0.8190 - val_loss: 0.4144 - val_AUC: 0.8942 - val_binary_accuracy: 0.8160\n",
            "Train for 5 steps\n",
            "Epoch 4/4\n",
            "5/5 [==============================] - 0s 24ms/step - loss: -0.5916\n",
            "Train for 111 steps, validate for 37 steps\n",
            "Epoch 5/5\n",
            "111/111 [==============================] - 4s 33ms/step - loss: 0.3893 - AUC: 0.9056 - binary_accuracy: 0.8268 - val_loss: 0.4096 - val_AUC: 0.8979 - val_binary_accuracy: 0.8192\n",
            "Train for 111 steps, validate for 37 steps\n",
            "Epoch 6/6\n",
            "111/111 [==============================] - 3s 30ms/step - loss: 0.3808 - AUC: 0.9107 - binary_accuracy: 0.8314 - val_loss: 0.4056 - val_AUC: 0.9006 - val_binary_accuracy: 0.8223\n",
            "Train for 111 steps, validate for 37 steps\n",
            "Epoch 7/7\n",
            "111/111 [==============================] - 3s 31ms/step - loss: 0.3758 - AUC: 0.9138 - binary_accuracy: 0.8342 - val_loss: 0.4047 - val_AUC: 0.9017 - val_binary_accuracy: 0.8234\n",
            "Train for 5 steps\n",
            "Epoch 7/7\n",
            "5/5 [==============================] - 0s 25ms/step - loss: -0.6738\n",
            "Train for 111 steps, validate for 37 steps\n",
            "Epoch 8/8\n",
            "111/111 [==============================] - 3s 31ms/step - loss: 0.3718 - AUC: 0.9161 - binary_accuracy: 0.8368 - val_loss: 0.4052 - val_AUC: 0.9019 - val_binary_accuracy: 0.8241\n",
            "Train for 111 steps, validate for 37 steps\n",
            "Epoch 9/9\n",
            "111/111 [==============================] - 3s 31ms/step - loss: 0.3690 - AUC: 0.9178 - binary_accuracy: 0.8384 - val_loss: 0.4050 - val_AUC: 0.9026 - val_binary_accuracy: 0.8248\n",
            "Train for 111 steps, validate for 37 steps\n",
            "Epoch 10/10\n",
            "111/111 [==============================] - 4s 36ms/step - loss: 0.3665 - AUC: 0.9193 - binary_accuracy: 0.8399 - val_loss: 0.4066 - val_AUC: 0.9032 - val_binary_accuracy: 0.8250\n",
            "Train for 5 steps\n",
            "Epoch 10/10\n",
            "5/5 [==============================] - 0s 24ms/step - loss: -0.7652\n",
            "Train for 111 steps, validate for 37 steps\n",
            "Epoch 11/11\n",
            "111/111 [==============================] - 3s 28ms/step - loss: 0.3635 - AUC: 0.9208 - binary_accuracy: 0.8417 - val_loss: 0.4075 - val_AUC: 0.9039 - val_binary_accuracy: 0.8265\n",
            "Train for 111 steps, validate for 37 steps\n",
            "Epoch 12/12\n",
            "111/111 [==============================] - 3s 31ms/step - loss: 0.3608 - AUC: 0.9223 - binary_accuracy: 0.8436 - val_loss: 0.4043 - val_AUC: 0.9053 - val_binary_accuracy: 0.8273\n",
            "Train for 111 steps, validate for 37 steps\n",
            "Epoch 13/13\n",
            "111/111 [==============================] - 3s 30ms/step - loss: 0.3581 - AUC: 0.9238 - binary_accuracy: 0.8457 - val_loss: 0.4058 - val_AUC: 0.9063 - val_binary_accuracy: 0.8283\n",
            "Train for 5 steps\n",
            "Epoch 13/13\n",
            "5/5 [==============================] - 0s 26ms/step - loss: -0.8444\n",
            "Train for 111 steps, validate for 37 steps\n",
            "Epoch 14/14\n",
            "111/111 [==============================] - 4s 32ms/step - loss: 0.3558 - AUC: 0.9250 - binary_accuracy: 0.8471 - val_loss: 0.4018 - val_AUC: 0.9060 - val_binary_accuracy: 0.8294\n",
            "Train for 111 steps, validate for 37 steps\n",
            "Epoch 15/15\n",
            "111/111 [==============================] - 4s 33ms/step - loss: 0.3533 - AUC: 0.9262 - binary_accuracy: 0.8485 - val_loss: 0.3998 - val_AUC: 0.9077 - val_binary_accuracy: 0.8310\n",
            "Train for 111 steps, validate for 37 steps\n",
            "Epoch 16/16\n",
            "111/111 [==============================] - 3s 32ms/step - loss: 0.3511 - AUC: 0.9274 - binary_accuracy: 0.8496 - val_loss: 0.3979 - val_AUC: 0.9089 - val_binary_accuracy: 0.8318\n",
            "Train for 5 steps\n",
            "Epoch 16/16\n",
            "5/5 [==============================] - 0s 36ms/step - loss: -0.8971\n",
            "Train for 111 steps, validate for 37 steps\n",
            "Epoch 17/17\n",
            "111/111 [==============================] - 3s 29ms/step - loss: 0.3493 - AUC: 0.9283 - binary_accuracy: 0.8511 - val_loss: 0.3984 - val_AUC: 0.9085 - val_binary_accuracy: 0.8316\n",
            "Train for 111 steps, validate for 37 steps\n",
            "Epoch 18/18\n",
            "111/111 [==============================] - 3s 29ms/step - loss: 0.3477 - AUC: 0.9291 - binary_accuracy: 0.8517 - val_loss: 0.3959 - val_AUC: 0.9106 - val_binary_accuracy: 0.8345\n",
            "Train for 111 steps, validate for 37 steps\n",
            "Epoch 19/19\n",
            "111/111 [==============================] - 4s 32ms/step - loss: 0.3459 - AUC: 0.9299 - binary_accuracy: 0.8527 - val_loss: 0.3963 - val_AUC: 0.9106 - val_binary_accuracy: 0.8337\n",
            "Train for 5 steps\n",
            "Epoch 19/19\n",
            "5/5 [==============================] - 0s 25ms/step - loss: -0.9293\n",
            "Train for 111 steps, validate for 37 steps\n",
            "Epoch 20/20\n",
            "111/111 [==============================] - 3s 31ms/step - loss: 0.3446 - AUC: 0.9306 - binary_accuracy: 0.8535 - val_loss: 0.3953 - val_AUC: 0.9108 - val_binary_accuracy: 0.8339\n",
            "Train for 111 steps, validate for 37 steps\n",
            "Epoch 21/21\n",
            "111/111 [==============================] - 4s 33ms/step - loss: 0.3431 - AUC: 0.9314 - binary_accuracy: 0.8545 - val_loss: 0.3923 - val_AUC: 0.9112 - val_binary_accuracy: 0.8351\n",
            "Train for 111 steps, validate for 37 steps\n",
            "Epoch 22/22\n",
            "111/111 [==============================] - 3s 29ms/step - loss: 0.3420 - AUC: 0.9319 - binary_accuracy: 0.8553 - val_loss: 0.3914 - val_AUC: 0.9123 - val_binary_accuracy: 0.8360\n",
            "Train for 5 steps\n",
            "Epoch 22/22\n",
            "5/5 [==============================] - 0s 34ms/step - loss: -0.9471\n",
            "Train for 111 steps, validate for 37 steps\n",
            "Epoch 23/23\n",
            "111/111 [==============================] - 4s 35ms/step - loss: 0.3413 - AUC: 0.9322 - binary_accuracy: 0.8552 - val_loss: 0.3899 - val_AUC: 0.9125 - val_binary_accuracy: 0.8364\n",
            "Train for 111 steps, validate for 37 steps\n",
            "Epoch 24/24\n",
            "111/111 [==============================] - 4s 33ms/step - loss: 0.3396 - AUC: 0.9329 - binary_accuracy: 0.8564 - val_loss: 0.3906 - val_AUC: 0.9124 - val_binary_accuracy: 0.8361\n",
            "Train for 111 steps, validate for 37 steps\n",
            "Epoch 25/25\n",
            "111/111 [==============================] - 3s 29ms/step - loss: 0.3392 - AUC: 0.9331 - binary_accuracy: 0.8563 - val_loss: 0.3958 - val_AUC: 0.9124 - val_binary_accuracy: 0.8348\n",
            "Train for 5 steps\n",
            "Epoch 25/25\n",
            "5/5 [==============================] - 0s 23ms/step - loss: -0.9575\n",
            "Train for 111 steps, validate for 37 steps\n",
            "Epoch 26/26\n",
            "111/111 [==============================] - 3s 29ms/step - loss: 0.3384 - AUC: 0.9333 - binary_accuracy: 0.8568 - val_loss: 0.3909 - val_AUC: 0.9131 - val_binary_accuracy: 0.8368\n",
            "Train for 111 steps, validate for 37 steps\n",
            "Epoch 27/27\n",
            "111/111 [==============================] - 4s 32ms/step - loss: 0.3377 - AUC: 0.9337 - binary_accuracy: 0.8567 - val_loss: 0.3939 - val_AUC: 0.9131 - val_binary_accuracy: 0.8366\n",
            "Train for 111 steps, validate for 37 steps\n",
            "Epoch 28/28\n",
            "111/111 [==============================] - 4s 33ms/step - loss: 0.3370 - AUC: 0.9340 - binary_accuracy: 0.8573 - val_loss: 0.3900 - val_AUC: 0.9128 - val_binary_accuracy: 0.8374\n",
            "Train for 5 steps\n",
            "Epoch 28/28\n",
            "5/5 [==============================] - 0s 24ms/step - loss: -0.9645\n",
            "Train for 111 steps, validate for 37 steps\n",
            "Epoch 29/29\n",
            "111/111 [==============================] - 4s 38ms/step - loss: 0.3369 - AUC: 0.9340 - binary_accuracy: 0.8574 - val_loss: 0.3894 - val_AUC: 0.9131 - val_binary_accuracy: 0.8368\n",
            "Train for 111 steps, validate for 37 steps\n",
            "Epoch 30/30\n",
            "111/111 [==============================] - 4s 33ms/step - loss: 0.3364 - AUC: 0.9344 - binary_accuracy: 0.8579 - val_loss: 0.3918 - val_AUC: 0.9133 - val_binary_accuracy: 0.8359\n",
            "Train for 111 steps, validate for 37 steps\n",
            "Epoch 31/31\n",
            "111/111 [==============================] - 4s 38ms/step - loss: 0.3357 - AUC: 0.9346 - binary_accuracy: 0.8578 - val_loss: 0.3940 - val_AUC: 0.9123 - val_binary_accuracy: 0.8359\n",
            "Train for 5 steps\n",
            "Epoch 31/31\n",
            "5/5 [==============================] - 0s 24ms/step - loss: -0.9688\n",
            "Train for 111 steps, validate for 37 steps\n",
            "Epoch 32/32\n",
            "111/111 [==============================] - 4s 32ms/step - loss: 0.3354 - AUC: 0.9347 - binary_accuracy: 0.8581 - val_loss: 0.3894 - val_AUC: 0.9132 - val_binary_accuracy: 0.8370\n"
          ],
          "name": "stdout"
        },
        {
          "output_type": "stream",
          "text": [
            "Train for 111 steps, validate for 37 steps\n",
            "Epoch 33/33\n",
            "111/111 [==============================] - 3s 31ms/step - loss: 0.3354 - AUC: 0.9348 - binary_accuracy: 0.8580 - val_loss: 0.3919 - val_AUC: 0.9132 - val_binary_accuracy: 0.8370\n",
            "Train for 111 steps, validate for 37 steps\n",
            "Epoch 34/34\n",
            "111/111 [==============================] - 3s 31ms/step - loss: 0.3344 - AUC: 0.9353 - binary_accuracy: 0.8589 - val_loss: 0.3900 - val_AUC: 0.9130 - val_binary_accuracy: 0.8369\n",
            "Train for 5 steps\n",
            "Epoch 34/34\n",
            "5/5 [==============================] - 0s 25ms/step - loss: -0.9720\n",
            "Train for 111 steps, validate for 37 steps\n",
            "Epoch 35/35\n",
            "111/111 [==============================] - 3s 31ms/step - loss: 0.3345 - AUC: 0.9351 - binary_accuracy: 0.8585 - val_loss: 0.3912 - val_AUC: 0.9137 - val_binary_accuracy: 0.8370\n",
            "Train for 111 steps, validate for 37 steps\n",
            "Epoch 36/36\n",
            "111/111 [==============================] - 4s 38ms/step - loss: 0.3347 - AUC: 0.9351 - binary_accuracy: 0.8583 - val_loss: 0.3908 - val_AUC: 0.9131 - val_binary_accuracy: 0.8365\n",
            "Train for 111 steps, validate for 37 steps\n",
            "Epoch 37/37\n",
            "111/111 [==============================] - 3s 30ms/step - loss: 0.3334 - AUC: 0.9357 - binary_accuracy: 0.8588 - val_loss: 0.3930 - val_AUC: 0.9142 - val_binary_accuracy: 0.8372\n",
            "Train for 5 steps\n",
            "Epoch 37/37\n",
            "5/5 [==============================] - 0s 24ms/step - loss: -0.9745\n",
            "Train for 111 steps, validate for 37 steps\n",
            "Epoch 38/38\n",
            "111/111 [==============================] - 4s 36ms/step - loss: 0.3332 - AUC: 0.9357 - binary_accuracy: 0.8589 - val_loss: 0.3894 - val_AUC: 0.9139 - val_binary_accuracy: 0.8374\n",
            "Train for 111 steps, validate for 37 steps\n",
            "Epoch 39/39\n",
            "111/111 [==============================] - 3s 30ms/step - loss: 0.3330 - AUC: 0.9359 - binary_accuracy: 0.8586 - val_loss: 0.3887 - val_AUC: 0.9135 - val_binary_accuracy: 0.8378\n",
            "Train for 111 steps, validate for 37 steps\n",
            "Epoch 40/40\n",
            "111/111 [==============================] - 3s 28ms/step - loss: 0.3328 - AUC: 0.9360 - binary_accuracy: 0.8591 - val_loss: 0.3928 - val_AUC: 0.9133 - val_binary_accuracy: 0.8366\n",
            "Train for 5 steps\n",
            "Epoch 40/40\n",
            "5/5 [==============================] - 0s 24ms/step - loss: -0.9764\n",
            "Train for 111 steps, validate for 37 steps\n",
            "Epoch 41/41\n",
            "111/111 [==============================] - 4s 32ms/step - loss: 0.3332 - AUC: 0.9358 - binary_accuracy: 0.8589 - val_loss: 0.3905 - val_AUC: 0.9141 - val_binary_accuracy: 0.8373\n",
            "Train for 111 steps, validate for 37 steps\n",
            "Epoch 42/42\n",
            "111/111 [==============================] - 3s 31ms/step - loss: 0.3327 - AUC: 0.9361 - binary_accuracy: 0.8592 - val_loss: 0.3904 - val_AUC: 0.9140 - val_binary_accuracy: 0.8369\n",
            "Train for 111 steps, validate for 37 steps\n",
            "Epoch 43/43\n",
            "111/111 [==============================] - 4s 36ms/step - loss: 0.3328 - AUC: 0.9362 - binary_accuracy: 0.8590 - val_loss: 0.3881 - val_AUC: 0.9146 - val_binary_accuracy: 0.8380\n",
            "Train for 5 steps\n",
            "Epoch 43/43\n",
            "5/5 [==============================] - 0s 24ms/step - loss: -0.9780\n",
            "Train for 111 steps, validate for 37 steps\n",
            "Epoch 44/44\n",
            "111/111 [==============================] - 4s 36ms/step - loss: 0.3328 - AUC: 0.9359 - binary_accuracy: 0.8592 - val_loss: 0.3876 - val_AUC: 0.9142 - val_binary_accuracy: 0.8383\n",
            "Train for 111 steps, validate for 37 steps\n",
            "Epoch 45/45\n",
            "111/111 [==============================] - 4s 32ms/step - loss: 0.3322 - AUC: 0.9363 - binary_accuracy: 0.8597 - val_loss: 0.3889 - val_AUC: 0.9146 - val_binary_accuracy: 0.8379\n",
            "Train for 111 steps, validate for 37 steps\n",
            "Epoch 46/46\n",
            "111/111 [==============================] - 3s 30ms/step - loss: 0.3324 - AUC: 0.9362 - binary_accuracy: 0.8594 - val_loss: 0.3914 - val_AUC: 0.9141 - val_binary_accuracy: 0.8365\n",
            "Train for 5 steps\n",
            "Epoch 46/46\n",
            "5/5 [==============================] - 0s 24ms/step - loss: -0.9792\n",
            "Train for 111 steps, validate for 37 steps\n",
            "Epoch 47/47\n",
            "111/111 [==============================] - 3s 30ms/step - loss: 0.3319 - AUC: 0.9363 - binary_accuracy: 0.8596 - val_loss: 0.3893 - val_AUC: 0.9142 - val_binary_accuracy: 0.8383\n",
            "Train for 111 steps, validate for 37 steps\n",
            "Epoch 48/48\n",
            "111/111 [==============================] - 3s 31ms/step - loss: 0.3312 - AUC: 0.9367 - binary_accuracy: 0.8600 - val_loss: 0.3923 - val_AUC: 0.9146 - val_binary_accuracy: 0.8386\n",
            "Train for 111 steps, validate for 37 steps\n",
            "Epoch 49/49\n",
            "111/111 [==============================] - 3s 31ms/step - loss: 0.3309 - AUC: 0.9369 - binary_accuracy: 0.8602 - val_loss: 0.3924 - val_AUC: 0.9145 - val_binary_accuracy: 0.8381\n",
            "Train for 5 steps\n",
            "Epoch 49/49\n",
            "5/5 [==============================] - 0s 24ms/step - loss: -0.9803\n",
            "Train for 111 steps, validate for 37 steps\n",
            "Epoch 50/50\n",
            "111/111 [==============================] - 3s 31ms/step - loss: 0.3313 - AUC: 0.9368 - binary_accuracy: 0.8600 - val_loss: 0.3916 - val_AUC: 0.9143 - val_binary_accuracy: 0.8383\n",
            "Train for 111 steps, validate for 37 steps\n",
            "Epoch 51/51\n",
            "111/111 [==============================] - 4s 36ms/step - loss: 0.3312 - AUC: 0.9368 - binary_accuracy: 0.8602 - val_loss: 0.3890 - val_AUC: 0.9127 - val_binary_accuracy: 0.8377\n",
            "Train for 111 steps, validate for 37 steps\n",
            "Epoch 52/52\n",
            "111/111 [==============================] - 4s 32ms/step - loss: 0.3314 - AUC: 0.9368 - binary_accuracy: 0.8603 - val_loss: 0.3903 - val_AUC: 0.9147 - val_binary_accuracy: 0.8389\n",
            "Train for 5 steps\n",
            "Epoch 52/52\n",
            "5/5 [==============================] - 0s 24ms/step - loss: -0.9813\n",
            "Train for 111 steps, validate for 37 steps\n",
            "Epoch 53/53\n",
            "111/111 [==============================] - 3s 29ms/step - loss: 0.3306 - AUC: 0.9371 - binary_accuracy: 0.8603 - val_loss: 0.3895 - val_AUC: 0.9143 - val_binary_accuracy: 0.8379\n",
            "Train for 111 steps, validate for 37 steps\n",
            "Epoch 54/54\n",
            "111/111 [==============================] - 3s 30ms/step - loss: 0.3312 - AUC: 0.9369 - binary_accuracy: 0.8604 - val_loss: 0.3913 - val_AUC: 0.9143 - val_binary_accuracy: 0.8386\n",
            "Train for 111 steps, validate for 37 steps\n",
            "Epoch 55/55\n",
            "111/111 [==============================] - 4s 32ms/step - loss: 0.3303 - AUC: 0.9373 - binary_accuracy: 0.8608 - val_loss: 0.3888 - val_AUC: 0.9137 - val_binary_accuracy: 0.8382\n",
            "Train for 5 steps\n",
            "Epoch 55/55\n",
            "5/5 [==============================] - 0s 25ms/step - loss: -0.9820\n",
            "Train for 111 steps, validate for 37 steps\n",
            "Epoch 56/56\n",
            "111/111 [==============================] - 3s 29ms/step - loss: 0.3306 - AUC: 0.9371 - binary_accuracy: 0.8607 - val_loss: 0.3892 - val_AUC: 0.9144 - val_binary_accuracy: 0.8387\n",
            "Train for 111 steps, validate for 37 steps\n",
            "Epoch 57/57\n",
            "111/111 [==============================] - 3s 32ms/step - loss: 0.3302 - AUC: 0.9372 - binary_accuracy: 0.8604 - val_loss: 0.3876 - val_AUC: 0.9144 - val_binary_accuracy: 0.8388\n",
            "Train for 111 steps, validate for 37 steps\n",
            "Epoch 58/58\n",
            "111/111 [==============================] - 4s 37ms/step - loss: 0.3300 - AUC: 0.9374 - binary_accuracy: 0.8610 - val_loss: 0.3916 - val_AUC: 0.9143 - val_binary_accuracy: 0.8381\n",
            "Train for 5 steps\n",
            "Epoch 58/58\n",
            "5/5 [==============================] - 0s 24ms/step - loss: -0.9829\n",
            "Train for 111 steps, validate for 37 steps\n",
            "Epoch 59/59\n",
            "111/111 [==============================] - 3s 28ms/step - loss: 0.3305 - AUC: 0.9371 - binary_accuracy: 0.8604 - val_loss: 0.3898 - val_AUC: 0.9142 - val_binary_accuracy: 0.8384\n",
            "Train for 111 steps, validate for 37 steps\n",
            "Epoch 60/60\n",
            "111/111 [==============================] - 3s 29ms/step - loss: 0.3300 - AUC: 0.9374 - binary_accuracy: 0.8608 - val_loss: 0.3876 - val_AUC: 0.9147 - val_binary_accuracy: 0.8391\n",
            "Train for 111 steps, validate for 37 steps\n",
            "Epoch 61/61\n",
            "111/111 [==============================] - 3s 30ms/step - loss: 0.3297 - AUC: 0.9376 - binary_accuracy: 0.8609 - val_loss: 0.3877 - val_AUC: 0.9144 - val_binary_accuracy: 0.8389\n",
            "Train for 5 steps\n",
            "Epoch 61/61\n",
            "5/5 [==============================] - 0s 24ms/step - loss: -0.9835\n",
            "Train for 111 steps, validate for 37 steps\n",
            "Epoch 62/62\n",
            "111/111 [==============================] - 4s 33ms/step - loss: 0.3296 - AUC: 0.9375 - binary_accuracy: 0.8611 - val_loss: 0.3891 - val_AUC: 0.9152 - val_binary_accuracy: 0.8384\n",
            "Train for 111 steps, validate for 37 steps\n",
            "Epoch 63/63\n",
            "111/111 [==============================] - 3s 29ms/step - loss: 0.3306 - AUC: 0.9373 - binary_accuracy: 0.8608 - val_loss: 0.3937 - val_AUC: 0.9136 - val_binary_accuracy: 0.8378\n"
          ],
          "name": "stdout"
        },
        {
          "output_type": "stream",
          "text": [
            "Train for 111 steps, validate for 37 steps\n",
            "Epoch 64/64\n",
            "111/111 [==============================] - 3s 31ms/step - loss: 0.3298 - AUC: 0.9376 - binary_accuracy: 0.8615 - val_loss: 0.3887 - val_AUC: 0.9148 - val_binary_accuracy: 0.8390\n",
            "Train for 5 steps\n",
            "Epoch 64/64\n",
            "5/5 [==============================] - 0s 35ms/step - loss: -0.9842\n",
            "Train for 111 steps, validate for 37 steps\n",
            "Epoch 65/65\n",
            "111/111 [==============================] - 3s 31ms/step - loss: 0.3296 - AUC: 0.9376 - binary_accuracy: 0.8615 - val_loss: 0.3937 - val_AUC: 0.9139 - val_binary_accuracy: 0.8376\n",
            "Train for 111 steps, validate for 37 steps\n",
            "Epoch 66/66\n",
            "111/111 [==============================] - 3s 28ms/step - loss: 0.3298 - AUC: 0.9376 - binary_accuracy: 0.8611 - val_loss: 0.3885 - val_AUC: 0.9146 - val_binary_accuracy: 0.8390\n",
            "Train for 111 steps, validate for 37 steps\n",
            "Epoch 67/67\n",
            "111/111 [==============================] - 3s 29ms/step - loss: 0.3299 - AUC: 0.9376 - binary_accuracy: 0.8612 - val_loss: 0.3898 - val_AUC: 0.9139 - val_binary_accuracy: 0.8384\n",
            "Train for 5 steps\n",
            "Epoch 67/67\n",
            "5/5 [==============================] - 0s 24ms/step - loss: -0.9846\n",
            "Train for 111 steps, validate for 37 steps\n",
            "Epoch 68/68\n",
            "111/111 [==============================] - 4s 32ms/step - loss: 0.3299 - AUC: 0.9375 - binary_accuracy: 0.8611 - val_loss: 0.3940 - val_AUC: 0.9145 - val_binary_accuracy: 0.8362\n",
            "Train for 111 steps, validate for 37 steps\n",
            "Epoch 69/69\n",
            "111/111 [==============================] - 3s 31ms/step - loss: 0.3292 - AUC: 0.9377 - binary_accuracy: 0.8614 - val_loss: 0.3892 - val_AUC: 0.9147 - val_binary_accuracy: 0.8395\n",
            "Train for 111 steps, validate for 37 steps\n",
            "Epoch 70/70\n",
            "111/111 [==============================] - 3s 28ms/step - loss: 0.3288 - AUC: 0.9380 - binary_accuracy: 0.8621 - val_loss: 0.3893 - val_AUC: 0.9148 - val_binary_accuracy: 0.8398\n",
            "Train for 5 steps\n",
            "Epoch 70/70\n",
            "5/5 [==============================] - 0s 34ms/step - loss: -0.9852\n"
          ],
          "name": "stdout"
        }
      ]
    },
    {
      "cell_type": "code",
      "metadata": {
        "id": "o-ZkGSahSFXZ",
        "colab_type": "code",
        "colab": {},
        "outputId": "cced9a33-d1fb-4ce3-baa5-b6c90af675b3"
      },
      "source": [
        "#测试ctr\n",
        "n_user, n_item, n_entity, n_relation, train_data, eval_data, test_data, kg =load_data(DATASET)\n",
        "network = tf.keras.models.load_model('./log/movie/model/model_40.h5',custom_objects={'CrossLayer':CrossLayer,'CompressLayer':CompressLayer})\n",
        "network.evaluate([test_data[:,0],test_data[:,1],test_data[:,1]],test_data[:,2])"
      ],
      "execution_count": null,
      "outputs": [
        {
          "output_type": "stream",
          "text": [
            "reading rating file ....\n",
            "splitting dataset ...\n",
            "reading KG file\n",
            "data loaded\n"
          ],
          "name": "stdout"
        },
        {
          "output_type": "stream",
          "text": [
            "/home/yinpu/anaconda3/lib/python3.7/site-packages/tensorflow_core/python/framework/indexed_slices.py:433: UserWarning: Converting sparse IndexedSlices to a dense Tensor of unknown shape. This may consume a large amount of memory.\n",
            "  \"Converting sparse IndexedSlices to a dense Tensor of unknown shape. \"\n",
            "/home/yinpu/anaconda3/lib/python3.7/site-packages/tensorflow_core/python/framework/indexed_slices.py:433: UserWarning: Converting sparse IndexedSlices to a dense Tensor of unknown shape. This may consume a large amount of memory.\n",
            "  \"Converting sparse IndexedSlices to a dense Tensor of unknown shape. \"\n"
          ],
          "name": "stderr"
        },
        {
          "output_type": "stream",
          "text": [
            "150754/150754 [==============================] - 8s 50us/sample - loss: 0.3228 - AUC: 0.9448 - binary_accuracy: 0.8744\n"
          ],
          "name": "stdout"
        },
        {
          "output_type": "execute_result",
          "data": {
            "text/plain": [
              "[0.3228301198369404, 0.9448189, 0.8743516]"
            ]
          },
          "metadata": {
            "tags": []
          },
          "execution_count": 63
        }
      ]
    },
    {
      "cell_type": "code",
      "metadata": {
        "id": "bybNMJ-BSFXc",
        "colab_type": "code",
        "colab": {},
        "outputId": "bdbf7167-141d-4498-948c-084c565b2fab"
      },
      "source": [
        "from matplotlib import pyplot as plt\n",
        "DATASET='movie'\n",
        "network = tf.keras.models.load_model('./log/movie/model/model_40.h5',custom_objects={'CrossLayer':CrossLayer,'CompressLayer':CompressLayer})\n",
        "n_user, n_item, n_entity, n_relation, train_data, eval_data, test_data, kg =load_data(DATASET)\n",
        "user_num = 100\n",
        "k_list = [2, 5, 10, 20, 50]\n",
        "train_record = get_user_recoed(train_data, True)\n",
        "test_record = get_user_recoed(test_data, False)\n",
        "user_list = list(set(train_record.keys()) & set(test_record.keys()))\n",
        "if len(user_list) > user_num:\n",
        "    user_list = np.random.choice(user_list, size=user_num, replace=False)\n",
        "item_set = set(list(range(n_item)))\n",
        "precision, recall=topk_eval(network,user_list,train_record,test_record,item_set,k_list)\n",
        "data=[precision,recall]\n",
        "x=range(len(k_list))\n",
        "y=[precision[k] for k in k_list]\n",
        "plt.title('topk-precision')\n",
        "plt.xlabel('k(top-k)')\n",
        "plt.ylabel('precision')\n",
        "plt.xticks(x,[2,5,10,20,50])\n",
        "plt.plot(x,y)\n",
        "plt.show()\n",
        "x=range(len(k_list))\n",
        "y=[recall[k] for k in k_list]\n",
        "plt.title('topk-recall')\n",
        "plt.xlabel('k(top-k)')\n",
        "plt.ylabel('recall')\n",
        "plt.xticks(x,[2,5,10,20,50])\n",
        "plt.plot(x,y)\n",
        "plt.show()\n",
        "data\n"
      ],
      "execution_count": null,
      "outputs": [
        {
          "output_type": "stream",
          "text": [
            "/home/yinpu/anaconda3/lib/python3.7/site-packages/tensorflow_core/python/framework/indexed_slices.py:433: UserWarning: Converting sparse IndexedSlices to a dense Tensor of unknown shape. This may consume a large amount of memory.\n",
            "  \"Converting sparse IndexedSlices to a dense Tensor of unknown shape. \"\n",
            "/home/yinpu/anaconda3/lib/python3.7/site-packages/tensorflow_core/python/framework/indexed_slices.py:433: UserWarning: Converting sparse IndexedSlices to a dense Tensor of unknown shape. This may consume a large amount of memory.\n",
            "  \"Converting sparse IndexedSlices to a dense Tensor of unknown shape. \"\n"
          ],
          "name": "stderr"
        },
        {
          "output_type": "stream",
          "text": [
            "reading rating file ....\n",
            "splitting dataset ...\n",
            "reading KG file\n",
            "data loaded\n"
          ],
          "name": "stdout"
        },
        {
          "output_type": "display_data",
          "data": {
            "image/png": "[encoded data removed]",
            "text/plain": [
              "<Figure size 432x288 with 1 Axes>"
            ]
          },
          "metadata": {
            "tags": [],
            "needs_background": "light"
          }
        },
        {
          "output_type": "display_data",
          "data": {
            "image/png": "[encoded data removed]",
            "text/plain": [
              "<Figure size 432x288 with 1 Axes>"
            ]
          },
          "metadata": {
            "tags": [],
            "needs_background": "light"
          }
        },
        {
          "output_type": "execute_result",
          "data": {
            "text/plain": [
              "[{2: 0.165,\n",
              "  5: 0.142,\n",
              "  10: 0.12500000000000003,\n",
              "  20: 0.10400000000000001,\n",
              "  50: 0.07519999999999999},\n",
              " {2: 0.02862065039363801,\n",
              "  5: 0.06444322934021077,\n",
              "  10: 0.10241340502648551,\n",
              "  20: 0.17461038557044753,\n",
              "  50: 0.3086857652393256}]"
            ]
          },
          "metadata": {
            "tags": []
          },
          "execution_count": 87
        }
      ]
    },
    {
      "cell_type": "code",
      "metadata": {
        "id": "K7ZOQS2rSFXg",
        "colab_type": "code",
        "colab": {},
        "outputId": "7a585c31-400d-4c98-eb89-930ddac430a8"
      },
      "source": [
        "data"
      ],
      "execution_count": null,
      "outputs": [
        {
          "output_type": "execute_result",
          "data": {
            "text/plain": [
              "[{2: 0.155, 5: 0.132, 10: 0.12, 20: 0.1045, 50: 0.08199999999999999},\n",
              " {2: 0.033652121994126066,\n",
              "  5: 0.06283168673311162,\n",
              "  10: 0.09739141823475352,\n",
              "  20: 0.2010322742247343,\n",
              "  50: 0.347547200771365},\n",
              " {2: 0.055298385769039476,\n",
              "  5: 0.08513792379298031,\n",
              "  10: 0.1075200694035683,\n",
              "  20: 0.1375165534298507,\n",
              "  50: 0.13269261404602198}]"
            ]
          },
          "metadata": {
            "tags": []
          },
          "execution_count": 22
        }
      ]
    },
    {
      "cell_type": "markdown",
      "metadata": {
        "id": "98ED72GxSFXj",
        "colab_type": "text"
      },
      "source": [
        "# last.fm数据集"
      ]
    },
    {
      "cell_type": "code",
      "metadata": {
        "id": "yxf-Z1iTSFXj",
        "colab_type": "code",
        "colab": {},
        "outputId": "f3920af5-ebca-4739-f1cf-048f44e36adb"
      },
      "source": [
        "DEFAULT={\n",
        "        'movie': {'epochs': 60, 'dim': 8, 'L': 1, 'H': 1, 'batch_size': 4096, 'lr_rs': 0.02, 'lr_kg': 0.01,\n",
        "                  'kge_interval': 3},\n",
        "        'book': {'epochs': 10, 'dim': 8, 'L': 1, 'H': 1, 'batch_size': 32, 'lr_rs': 2e-4, 'lr_kg': 2e-5,\n",
        "                 'kge_interval': 2},\n",
        "        'music': {'epochs': 30, 'dim': 4, 'L': 2, 'H': 1, 'batch_size': 256, 'lr_rs': 1e-4, 'lr_kg': 2e-4,\n",
        "                  'kge_interval': 2}\n",
        "    }\n",
        "DATASET='music'\n",
        "history=train(DATASET,DEFAULT)"
      ],
      "execution_count": null,
      "outputs": [
        {
          "output_type": "stream",
          "text": [
            "reading rating file ....\n",
            "splitting dataset ...\n",
            "reading KG file\n",
            "data loaded\n",
            "Train for 100 steps, validate for 34 steps\n"
          ],
          "name": "stdout"
        },
        {
          "output_type": "stream",
          "text": [
            "/home/yinpu/anaconda3/lib/python3.7/site-packages/tensorflow_core/python/framework/indexed_slices.py:433: UserWarning: Converting sparse IndexedSlices to a dense Tensor of unknown shape. This may consume a large amount of memory.\n",
            "  \"Converting sparse IndexedSlices to a dense Tensor of unknown shape. \"\n",
            "/home/yinpu/anaconda3/lib/python3.7/site-packages/tensorflow_core/python/framework/indexed_slices.py:433: UserWarning: Converting sparse IndexedSlices to a dense Tensor of unknown shape. This may consume a large amount of memory.\n",
            "  \"Converting sparse IndexedSlices to a dense Tensor of unknown shape. \"\n"
          ],
          "name": "stderr"
        },
        {
          "output_type": "stream",
          "text": [
            "100/100 [==============================] - 2s 20ms/step - loss: 0.6932 - AUC: 0.5000 - binary_accuracy: 0.5153 - val_loss: 0.6932 - val_AUC: 0.5000 - val_binary_accuracy: 0.5246\n",
            "Train for 61 steps\n"
          ],
          "name": "stdout"
        },
        {
          "output_type": "stream",
          "text": [
            "/home/yinpu/anaconda3/lib/python3.7/site-packages/tensorflow_core/python/framework/indexed_slices.py:433: UserWarning: Converting sparse IndexedSlices to a dense Tensor of unknown shape. This may consume a large amount of memory.\n",
            "  \"Converting sparse IndexedSlices to a dense Tensor of unknown shape. \"\n",
            "/home/yinpu/anaconda3/lib/python3.7/site-packages/tensorflow_core/python/framework/indexed_slices.py:433: UserWarning: Converting sparse IndexedSlices to a dense Tensor of unknown shape. This may consume a large amount of memory.\n",
            "  \"Converting sparse IndexedSlices to a dense Tensor of unknown shape. \"\n"
          ],
          "name": "stderr"
        },
        {
          "output_type": "stream",
          "text": [
            "61/61 [==============================] - 1s 20ms/step - loss: -0.5080\n",
            "Train for 100 steps, validate for 34 steps\n",
            "Epoch 2/2\n",
            "100/100 [==============================] - 0s 5ms/step - loss: 0.6932 - AUC: 0.5009 - binary_accuracy: 0.5026 - val_loss: 0.6931 - val_AUC: 0.5033 - val_binary_accuracy: 0.5063\n",
            "Train for 100 steps, validate for 34 steps\n",
            "Epoch 3/3\n",
            "100/100 [==============================] - 0s 4ms/step - loss: 0.6926 - AUC: 0.5387 - binary_accuracy: 0.5707 - val_loss: 0.6919 - val_AUC: 0.5975 - val_binary_accuracy: 0.6366\n",
            "Train for 61 steps\n",
            "Epoch 3/3\n",
            "61/61 [==============================] - 0s 4ms/step - loss: -0.5202\n",
            "Train for 100 steps, validate for 34 steps\n",
            "Epoch 4/4\n",
            "100/100 [==============================] - 0s 4ms/step - loss: 0.6890 - AUC: 0.7078 - binary_accuracy: 0.6475 - val_loss: 0.6856 - val_AUC: 0.7339 - val_binary_accuracy: 0.6931\n",
            "Train for 100 steps, validate for 34 steps\n",
            "Epoch 5/5\n",
            "100/100 [==============================] - 1s 5ms/step - loss: 0.6759 - AUC: 0.7957 - binary_accuracy: 0.7314 - val_loss: 0.6690 - val_AUC: 0.7643 - val_binary_accuracy: 0.7171\n",
            "Train for 61 steps\n",
            "Epoch 5/5\n",
            "61/61 [==============================] - 0s 5ms/step - loss: -0.5389\n",
            "Train for 100 steps, validate for 34 steps\n",
            "Epoch 6/6\n",
            "100/100 [==============================] - 0s 5ms/step - loss: 0.6444 - AUC: 0.8237 - binary_accuracy: 0.7465 - val_loss: 0.6319 - val_AUC: 0.7776 - val_binary_accuracy: 0.7254\n",
            "Train for 100 steps, validate for 34 steps\n",
            "Epoch 7/7\n",
            "100/100 [==============================] - 0s 5ms/step - loss: 0.5928 - AUC: 0.8421 - binary_accuracy: 0.7722 - val_loss: 0.5866 - val_AUC: 0.7833 - val_binary_accuracy: 0.7339\n",
            "Train for 61 steps\n",
            "Epoch 7/7\n",
            "61/61 [==============================] - 0s 4ms/step - loss: -0.5653\n",
            "Train for 100 steps, validate for 34 steps\n",
            "Epoch 8/8\n",
            "100/100 [==============================] - 1s 5ms/step - loss: 0.5307 - AUC: 0.8551 - binary_accuracy: 0.7726 - val_loss: 0.5463 - val_AUC: 0.7875 - val_binary_accuracy: 0.7402\n",
            "Train for 100 steps, validate for 34 steps\n",
            "Epoch 9/9\n",
            "100/100 [==============================] - 0s 5ms/step - loss: 0.4888 - AUC: 0.8631 - binary_accuracy: 0.7824 - val_loss: 0.5335 - val_AUC: 0.7902 - val_binary_accuracy: 0.7439\n",
            "Train for 61 steps\n",
            "Epoch 9/9\n",
            "61/61 [==============================] - 0s 5ms/step - loss: -0.5970\n",
            "Train for 100 steps, validate for 34 steps\n",
            "Epoch 10/10\n",
            "100/100 [==============================] - 0s 5ms/step - loss: 0.4652 - AUC: 0.8715 - binary_accuracy: 0.7844 - val_loss: 0.5341 - val_AUC: 0.7922 - val_binary_accuracy: 0.7442\n",
            "Train for 100 steps, validate for 34 steps\n",
            "Epoch 11/11\n",
            "100/100 [==============================] - 0s 5ms/step - loss: 0.4512 - AUC: 0.8760 - binary_accuracy: 0.7878 - val_loss: 0.5390 - val_AUC: 0.7932 - val_binary_accuracy: 0.7450\n",
            "Train for 61 steps\n",
            "Epoch 11/11\n",
            "61/61 [==============================] - 0s 4ms/step - loss: -0.6324\n",
            "Train for 100 steps, validate for 34 steps\n",
            "Epoch 12/12\n",
            "100/100 [==============================] - 0s 5ms/step - loss: 0.4456 - AUC: 0.8800 - binary_accuracy: 0.7882 - val_loss: 0.5422 - val_AUC: 0.7948 - val_binary_accuracy: 0.7448\n",
            "Train for 100 steps, validate for 34 steps\n",
            "Epoch 13/13\n",
            "100/100 [==============================] - 1s 5ms/step - loss: 0.4373 - AUC: 0.8832 - binary_accuracy: 0.7916 - val_loss: 0.5461 - val_AUC: 0.7952 - val_binary_accuracy: 0.7448\n",
            "Train for 61 steps\n",
            "Epoch 13/13\n",
            "61/61 [==============================] - 0s 4ms/step - loss: -0.6723\n",
            "Train for 100 steps, validate for 34 steps\n",
            "Epoch 14/14\n",
            "100/100 [==============================] - 0s 5ms/step - loss: 0.4365 - AUC: 0.8845 - binary_accuracy: 0.7901 - val_loss: 0.5490 - val_AUC: 0.7960 - val_binary_accuracy: 0.7442\n",
            "Train for 100 steps, validate for 34 steps\n",
            "Epoch 15/15\n",
            "100/100 [==============================] - 0s 5ms/step - loss: 0.4288 - AUC: 0.8874 - binary_accuracy: 0.7942 - val_loss: 0.5524 - val_AUC: 0.7961 - val_binary_accuracy: 0.7453\n",
            "Train for 61 steps\n",
            "Epoch 15/15\n",
            "61/61 [==============================] - 0s 4ms/step - loss: -0.7156\n",
            "Train for 100 steps, validate for 34 steps\n",
            "Epoch 16/16\n",
            "100/100 [==============================] - 1s 5ms/step - loss: 0.4275 - AUC: 0.8884 - binary_accuracy: 0.7927 - val_loss: 0.5570 - val_AUC: 0.7963 - val_binary_accuracy: 0.7437\n",
            "Train for 100 steps, validate for 34 steps\n",
            "Epoch 17/17\n",
            "100/100 [==============================] - 0s 5ms/step - loss: 0.4204 - AUC: 0.8912 - binary_accuracy: 0.7952 - val_loss: 0.5603 - val_AUC: 0.7964 - val_binary_accuracy: 0.7438\n",
            "Train for 61 steps\n",
            "Epoch 17/17\n",
            "61/61 [==============================] - 0s 4ms/step - loss: -0.7573\n",
            "Train for 100 steps, validate for 34 steps\n",
            "Epoch 18/18\n",
            "100/100 [==============================] - 1s 5ms/step - loss: 0.4164 - AUC: 0.8927 - binary_accuracy: 0.7958 - val_loss: 0.5677 - val_AUC: 0.7960 - val_binary_accuracy: 0.7441\n",
            "Train for 100 steps, validate for 34 steps\n",
            "Epoch 19/19\n",
            "100/100 [==============================] - 1s 6ms/step - loss: 0.4101 - AUC: 0.8948 - binary_accuracy: 0.7973 - val_loss: 0.5704 - val_AUC: 0.7959 - val_binary_accuracy: 0.7435\n",
            "Train for 61 steps\n",
            "Epoch 19/19\n",
            "61/61 [==============================] - 0s 5ms/step - loss: -0.7923\n",
            "Train for 100 steps, validate for 34 steps\n",
            "Epoch 20/20\n",
            "100/100 [==============================] - 1s 6ms/step - loss: 0.4069 - AUC: 0.8966 - binary_accuracy: 0.7985 - val_loss: 0.5775 - val_AUC: 0.7957 - val_binary_accuracy: 0.7440\n",
            "Train for 100 steps, validate for 34 steps\n",
            "Epoch 21/21\n",
            "100/100 [==============================] - 1s 6ms/step - loss: 0.4021 - AUC: 0.8986 - binary_accuracy: 0.7989 - val_loss: 0.5819 - val_AUC: 0.7953 - val_binary_accuracy: 0.7428\n",
            "Train for 61 steps\n",
            "Epoch 21/21\n",
            "61/61 [==============================] - 0s 4ms/step - loss: -0.8203\n",
            "Train for 100 steps, validate for 34 steps\n",
            "Epoch 22/22\n",
            "100/100 [==============================] - 0s 5ms/step - loss: 0.3966 - AUC: 0.9003 - binary_accuracy: 0.8005 - val_loss: 0.5901 - val_AUC: 0.7948 - val_binary_accuracy: 0.7408\n",
            "Train for 100 steps, validate for 34 steps\n",
            "Epoch 23/23\n",
            "100/100 [==============================] - 1s 6ms/step - loss: 0.3923 - AUC: 0.9021 - binary_accuracy: 0.8012 - val_loss: 0.5955 - val_AUC: 0.7945 - val_binary_accuracy: 0.7389\n",
            "Train for 61 steps\n",
            "Epoch 23/23\n",
            "61/61 [==============================] - 0s 5ms/step - loss: -0.8429\n",
            "Train for 100 steps, validate for 34 steps\n",
            "Epoch 24/24\n",
            "100/100 [==============================] - 1s 6ms/step - loss: 0.3877 - AUC: 0.9036 - binary_accuracy: 0.8028 - val_loss: 0.6070 - val_AUC: 0.7936 - val_binary_accuracy: 0.7343\n",
            "Train for 100 steps, validate for 34 steps\n",
            "Epoch 25/25\n",
            "100/100 [==============================] - 1s 5ms/step - loss: 0.3842 - AUC: 0.9051 - binary_accuracy: 0.8048 - val_loss: 0.6109 - val_AUC: 0.7939 - val_binary_accuracy: 0.7383\n",
            "Train for 61 steps\n",
            "Epoch 25/25\n",
            "61/61 [==============================] - 0s 4ms/step - loss: -0.8618\n",
            "Train for 100 steps, validate for 34 steps\n",
            "Epoch 26/26\n",
            "100/100 [==============================] - 0s 5ms/step - loss: 0.3803 - AUC: 0.9065 - binary_accuracy: 0.8063 - val_loss: 0.6229 - val_AUC: 0.7927 - val_binary_accuracy: 0.7333\n",
            "Train for 100 steps, validate for 34 steps\n",
            "Epoch 27/27\n",
            "100/100 [==============================] - 0s 5ms/step - loss: 0.3767 - AUC: 0.9078 - binary_accuracy: 0.8073 - val_loss: 0.6289 - val_AUC: 0.7923 - val_binary_accuracy: 0.7323\n",
            "Train for 61 steps\n",
            "Epoch 27/27\n",
            "61/61 [==============================] - 0s 4ms/step - loss: -0.8777\n",
            "Train for 100 steps, validate for 34 steps\n",
            "Epoch 28/28\n",
            "100/100 [==============================] - 0s 5ms/step - loss: 0.3739 - AUC: 0.9090 - binary_accuracy: 0.8080 - val_loss: 0.6398 - val_AUC: 0.7913 - val_binary_accuracy: 0.7297\n",
            "Train for 100 steps, validate for 34 steps\n",
            "Epoch 29/29\n",
            "100/100 [==============================] - 0s 5ms/step - loss: 0.3710 - AUC: 0.9101 - binary_accuracy: 0.8086 - val_loss: 0.6485 - val_AUC: 0.7904 - val_binary_accuracy: 0.7284\n",
            "Train for 61 steps\n",
            "Epoch 29/29\n",
            "61/61 [==============================] - 0s 4ms/step - loss: -0.8913\n",
            "Train for 100 steps, validate for 34 steps\n",
            "Epoch 30/30\n",
            "100/100 [==============================] - 0s 5ms/step - loss: 0.3674 - AUC: 0.9112 - binary_accuracy: 0.8096 - val_loss: 0.6593 - val_AUC: 0.7895 - val_binary_accuracy: 0.7272\n"
          ],
          "name": "stdout"
        }
      ]
    },
    {
      "cell_type": "code",
      "metadata": {
        "id": "ec0wMS_8SFXm",
        "colab_type": "code",
        "colab": {},
        "outputId": "a25ed80a-1746-4424-f802-6890460c5183"
      },
      "source": [
        "n_user, n_item, n_entity, n_relation, train_data, eval_data, test_data, kg =load_data(DATASET)\n",
        "network = tf.keras.models.load_model('./log/music/model/model_11.h5',custom_objects={'CrossLayer':CrossLayer,'CompressLayer':CompressLayer})\n",
        "network.evaluate([test_data[:,0],test_data[:,1],test_data[:,1]],test_data[:,2])"
      ],
      "execution_count": null,
      "outputs": [
        {
          "output_type": "stream",
          "text": [
            "reading rating file ....\n",
            "splitting dataset ...\n",
            "reading KG file\n",
            "data loaded\n"
          ],
          "name": "stdout"
        },
        {
          "output_type": "stream",
          "text": [
            "/home/yinpu/anaconda3/lib/python3.7/site-packages/tensorflow_core/python/framework/indexed_slices.py:433: UserWarning: Converting sparse IndexedSlices to a dense Tensor of unknown shape. This may consume a large amount of memory.\n",
            "  \"Converting sparse IndexedSlices to a dense Tensor of unknown shape. \"\n",
            "/home/yinpu/anaconda3/lib/python3.7/site-packages/tensorflow_core/python/framework/indexed_slices.py:433: UserWarning: Converting sparse IndexedSlices to a dense Tensor of unknown shape. This may consume a large amount of memory.\n",
            "  \"Converting sparse IndexedSlices to a dense Tensor of unknown shape. \"\n"
          ],
          "name": "stderr"
        },
        {
          "output_type": "stream",
          "text": [
            "8469/8469 [==============================] - 1s 102us/sample - loss: 0.4856 - AUC: 0.8446 - binary_accuracy: 0.7716\n"
          ],
          "name": "stdout"
        },
        {
          "output_type": "execute_result",
          "data": {
            "text/plain": [
              "[0.48559353984729614, 0.84459686, 0.77163774]"
            ]
          },
          "metadata": {
            "tags": []
          },
          "execution_count": 24
        }
      ]
    },
    {
      "cell_type": "code",
      "metadata": {
        "id": "FgK0TrfJSFXp",
        "colab_type": "code",
        "colab": {},
        "outputId": "1099cbc8-4715-44a6-b25a-77f7c9564522"
      },
      "source": [
        "network.evaluate([eval_data[:,0],eval_data[:,1],eval_data[:,1]],eval_data[:,2])"
      ],
      "execution_count": null,
      "outputs": [
        {
          "output_type": "stream",
          "text": [
            "8469/8469 [==============================] - 0s 49us/sample - loss: 0.4729 - AUC: 0.8533 - binary_accuracy: 0.7786\n"
          ],
          "name": "stdout"
        },
        {
          "output_type": "execute_result",
          "data": {
            "text/plain": [
              "[0.472894996689686, 0.85331774, 0.7786043]"
            ]
          },
          "metadata": {
            "tags": []
          },
          "execution_count": 25
        }
      ]
    },
    {
      "cell_type": "code",
      "metadata": {
        "id": "qHHhIRB-SFXs",
        "colab_type": "code",
        "colab": {},
        "outputId": "bda6d010-6a63-47aa-e90b-c923cfef8319"
      },
      "source": [
        "from matplotlib import pyplot as plt\n",
        "DATASET='music'\n",
        "network = tf.keras.models.load_model('./log/music/model/model_11.h5',custom_objects={'CrossLayer':CrossLayer,'CompressLayer':CompressLayer})\n",
        "n_user, n_item, n_entity, n_relation, train_data, eval_data, test_data, kg =load_data(DATASET)\n",
        "user_num = 100\n",
        "k_list = [1, 2, 5, 10, 20, 50, 100]\n",
        "train_record = get_user_recoed(train_data, True)\n",
        "test_record = get_user_recoed(test_data, False)\n",
        "user_list = list(set(train_record.keys()) & set(test_record.keys()))\n",
        "if len(user_list) > user_num:\n",
        "    user_list = np.random.choice(user_list, size=user_num, replace=False)\n",
        "item_set = set(list(range(n_item)))\n",
        "precision, recall, f1=topk_eval(network,user_list,train_record,test_record,item_set,k_list)\n",
        "data=[precision,recall,f1]\n",
        "x=range(len(k_list))\n",
        "y=[precision[k] for k in k_list]\n",
        "plt.title('topk-precision')\n",
        "plt.xlabel('k(top-k)')\n",
        "plt.ylabel('precision')\n",
        "plt.xticks(x,[1,2,5,10,20,50,100])\n",
        "plt.plot(x,y)\n",
        "plt.show()\n",
        "x=range(len(k_list))\n",
        "y=[recall[k] for k in k_list]\n",
        "plt.title('topk-recall')\n",
        "plt.xlabel('k(top-k)')\n",
        "plt.ylabel('recall')\n",
        "plt.xticks(x,[1,2,5,10,20,50,100])\n",
        "plt.plot(x,y)\n",
        "plt.show()\n",
        "data"
      ],
      "execution_count": null,
      "outputs": [
        {
          "output_type": "stream",
          "text": [
            "/home/yinpu/anaconda3/lib/python3.7/site-packages/tensorflow_core/python/framework/indexed_slices.py:433: UserWarning: Converting sparse IndexedSlices to a dense Tensor of unknown shape. This may consume a large amount of memory.\n",
            "  \"Converting sparse IndexedSlices to a dense Tensor of unknown shape. \"\n",
            "/home/yinpu/anaconda3/lib/python3.7/site-packages/tensorflow_core/python/framework/indexed_slices.py:433: UserWarning: Converting sparse IndexedSlices to a dense Tensor of unknown shape. This may consume a large amount of memory.\n",
            "  \"Converting sparse IndexedSlices to a dense Tensor of unknown shape. \"\n"
          ],
          "name": "stderr"
        },
        {
          "output_type": "stream",
          "text": [
            "reading rating file ....\n",
            "splitting dataset ...\n",
            "reading KG file\n",
            "data loaded\n"
          ],
          "name": "stdout"
        },
        {
          "output_type": "display_data",
          "data": {
            "image/png": "[encoded data removed]",
            "text/plain": [
              "<Figure size 432x288 with 1 Axes>"
            ]
          },
          "metadata": {
            "tags": [],
            "needs_background": "light"
          }
        },
        {
          "output_type": "display_data",
          "data": {
            "image/png": "[encoded data removed]",
            "text/plain": [
              "<Figure size 432x288 with 1 Axes>"
            ]
          },
          "metadata": {
            "tags": [],
            "needs_background": "light"
          }
        },
        {
          "output_type": "execute_result",
          "data": {
            "text/plain": [
              "[{1: 0.06,\n",
              "  2: 0.05,\n",
              "  5: 0.028000000000000004,\n",
              "  10: 0.026000000000000002,\n",
              "  20: 0.020499999999999997,\n",
              "  50: 0.013600000000000001,\n",
              "  100: 0.009200000000000002},\n",
              " {1: 0.027000000000000003,\n",
              "  2: 0.04533333333333333,\n",
              "  5: 0.067,\n",
              "  10: 0.12116666666666666,\n",
              "  20: 0.18683333333333332,\n",
              "  50: 0.3165833333333333,\n",
              "  100: 0.4035},\n",
              " {1: 0.03724137931034483,\n",
              "  2: 0.04755244755244755,\n",
              "  5: 0.03949473684210527,\n",
              "  10: 0.042813137032842584,\n",
              "  20: 0.03694614147909967,\n",
              "  50: 0.026079652718186866,\n",
              "  100: 0.01798982311606494}]"
            ]
          },
          "metadata": {
            "tags": []
          },
          "execution_count": 11
        }
      ]
    },
    {
      "cell_type": "markdown",
      "metadata": {
        "id": "WAQerT4SSFXw",
        "colab_type": "text"
      },
      "source": [
        "# book数据集"
      ]
    },
    {
      "cell_type": "code",
      "metadata": {
        "id": "6mxZZAGKSFXw",
        "colab_type": "code",
        "colab": {},
        "outputId": "28f0a958-a026-497d-9fb7-440f8a41051c"
      },
      "source": [
        "DEFAULT={\n",
        "        'movie': {'epochs': 30, 'dim': 8, 'L': 1, 'H': 1, 'batch_size': 4096, 'lr_rs': 0.02, 'lr_kg': 0.01,\n",
        "                  'kge_interval': 3},\n",
        "        'book': {'epochs': 10, 'dim': 8, 'L': 1, 'H': 1, 'batch_size': 32, 'lr_rs': 2e-4, 'lr_kg': 2e-5,\n",
        "                 'kge_interval': 2},\n",
        "        'music': {'epochs': 10, 'dim': 4, 'L': 2, 'H': 1, 'batch_size': 256, 'lr_rs': 1e-3, 'lr_kg': 2e-4,\n",
        "                  'kge_interval': 2}\n",
        "    }\n",
        "DATASET='book'\n",
        "history=train(DATASET,DEFAULT)"
      ],
      "execution_count": null,
      "outputs": [
        {
          "output_type": "stream",
          "text": [
            "reading rating file ....\n",
            "splitting dataset ...\n",
            "reading KG file\n",
            "data loaded\n",
            "Train for 2621 steps, validate for 874 steps\n"
          ],
          "name": "stdout"
        },
        {
          "output_type": "stream",
          "text": [
            "/home/yinpu/anaconda3/lib/python3.7/site-packages/tensorflow_core/python/framework/indexed_slices.py:433: UserWarning: Converting sparse IndexedSlices to a dense Tensor of unknown shape. This may consume a large amount of memory.\n",
            "  \"Converting sparse IndexedSlices to a dense Tensor of unknown shape. \"\n",
            "/home/yinpu/anaconda3/lib/python3.7/site-packages/tensorflow_core/python/framework/indexed_slices.py:433: UserWarning: Converting sparse IndexedSlices to a dense Tensor of unknown shape. This may consume a large amount of memory.\n",
            "  \"Converting sparse IndexedSlices to a dense Tensor of unknown shape. \"\n"
          ],
          "name": "stderr"
        },
        {
          "output_type": "stream",
          "text": [
            "2621/2621 [==============================] - 13s 5ms/step - loss: 0.6460 - AUC: 0.6604 - binary_accuracy: 0.5969 - val_loss: 0.5816 - val_AUC: 0.7365 - val_binary_accuracy: 0.6973\n",
            "Train for 619 steps\n"
          ],
          "name": "stdout"
        },
        {
          "output_type": "stream",
          "text": [
            "/home/yinpu/anaconda3/lib/python3.7/site-packages/tensorflow_core/python/framework/indexed_slices.py:433: UserWarning: Converting sparse IndexedSlices to a dense Tensor of unknown shape. This may consume a large amount of memory.\n",
            "  \"Converting sparse IndexedSlices to a dense Tensor of unknown shape. \"\n",
            "/home/yinpu/anaconda3/lib/python3.7/site-packages/tensorflow_core/python/framework/indexed_slices.py:433: UserWarning: Converting sparse IndexedSlices to a dense Tensor of unknown shape. This may consume a large amount of memory.\n",
            "  \"Converting sparse IndexedSlices to a dense Tensor of unknown shape. \"\n"
          ],
          "name": "stderr"
        },
        {
          "output_type": "stream",
          "text": [
            "619/619 [==============================] - 3s 4ms/step - loss: -0.5075\n",
            "Train for 2621 steps, validate for 874 steps\n",
            "Epoch 2/2\n",
            "2621/2621 [==============================] - 12s 5ms/step - loss: 0.5363 - AUC: 0.7992 - binary_accuracy: 0.7333 - val_loss: 0.5818 - val_AUC: 0.7454 - val_binary_accuracy: 0.7000\n",
            "Train for 2621 steps, validate for 874 steps\n",
            "Epoch 3/3\n",
            "2621/2621 [==============================] - 12s 5ms/step - loss: 0.4965 - AUC: 0.8373 - binary_accuracy: 0.7550 - val_loss: 0.5990 - val_AUC: 0.7454 - val_binary_accuracy: 0.6986\n",
            "Train for 619 steps\n",
            "Epoch 3/3\n",
            "619/619 [==============================] - 2s 3ms/step - loss: -0.5232\n",
            "Train for 2621 steps, validate for 874 steps\n",
            "Epoch 4/4\n",
            "2621/2621 [==============================] - 12s 4ms/step - loss: 0.4720 - AUC: 0.8534 - binary_accuracy: 0.7607 - val_loss: 0.6244 - val_AUC: 0.7432 - val_binary_accuracy: 0.6939\n",
            "Train for 2621 steps, validate for 874 steps\n",
            "Epoch 5/5\n",
            "2621/2621 [==============================] - 12s 5ms/step - loss: 0.4485 - AUC: 0.8666 - binary_accuracy: 0.7668 - val_loss: 0.6579 - val_AUC: 0.7381 - val_binary_accuracy: 0.6862\n",
            "Train for 619 steps\n",
            "Epoch 5/5\n",
            "619/619 [==============================] - 2s 3ms/step - loss: -0.5413\n",
            "Train for 2621 steps, validate for 874 steps\n",
            "Epoch 6/6\n",
            "2621/2621 [==============================] - 12s 5ms/step - loss: 0.4272 - AUC: 0.8783 - binary_accuracy: 0.7756 - val_loss: 0.7115 - val_AUC: 0.7304 - val_binary_accuracy: 0.6740\n",
            "Train for 2621 steps, validate for 874 steps\n",
            "Epoch 7/7\n",
            "2621/2621 [==============================] - 12s 5ms/step - loss: 0.4063 - AUC: 0.8900 - binary_accuracy: 0.7895 - val_loss: 0.7806 - val_AUC: 0.7205 - val_binary_accuracy: 0.6610\n",
            "Train for 619 steps\n",
            "Epoch 7/7\n",
            "619/619 [==============================] - 2s 3ms/step - loss: -0.5626\n",
            "Train for 2621 steps, validate for 874 steps\n",
            "Epoch 8/8\n",
            "2621/2621 [==============================] - 12s 5ms/step - loss: 0.3898 - AUC: 0.8989 - binary_accuracy: 0.7984 - val_loss: 0.8307 - val_AUC: 0.7104 - val_binary_accuracy: 0.6470\n",
            "Train for 2621 steps, validate for 874 steps\n",
            "Epoch 9/9\n",
            "2621/2621 [==============================] - 12s 5ms/step - loss: 0.3750 - AUC: 0.9068 - binary_accuracy: 0.8090 - val_loss: 0.9004 - val_AUC: 0.7020 - val_binary_accuracy: 0.6380\n",
            "Train for 619 steps\n",
            "Epoch 9/9\n",
            "619/619 [==============================] - 2s 3ms/step - loss: -0.5868\n",
            "Train for 2621 steps, validate for 874 steps\n",
            "Epoch 10/10\n",
            "2621/2621 [==============================] - 12s 5ms/step - loss: 0.3621 - AUC: 0.9130 - binary_accuracy: 0.8151 - val_loss: 0.9736 - val_AUC: 0.6937 - val_binary_accuracy: 0.6325\n"
          ],
          "name": "stdout"
        }
      ]
    },
    {
      "cell_type": "code",
      "metadata": {
        "id": "hD-k73cdSFXz",
        "colab_type": "code",
        "colab": {},
        "outputId": "11ae654f-9a9a-43d3-8f17-a9deb7e3ae90"
      },
      "source": [
        "n_user, n_item, n_entity, n_relation, train_data, eval_data, test_data, kg =load_data(DATASET)\n",
        "network = tf.keras.models.load_model('./log/book/model/model_3.h5',custom_objects={'CrossLayer':CrossLayer,'CompressLayer':CompressLayer})\n",
        "network.evaluate([test_data[:,0],test_data[:,1],test_data[:,1]],test_data[:,2])"
      ],
      "execution_count": null,
      "outputs": [
        {
          "output_type": "stream",
          "text": [
            "reading rating file ....\n",
            "splitting dataset ...\n",
            "reading KG file\n",
            "data loaded\n"
          ],
          "name": "stdout"
        },
        {
          "output_type": "stream",
          "text": [
            "/home/yinpu/anaconda3/lib/python3.7/site-packages/tensorflow_core/python/framework/indexed_slices.py:433: UserWarning: Converting sparse IndexedSlices to a dense Tensor of unknown shape. This may consume a large amount of memory.\n",
            "  \"Converting sparse IndexedSlices to a dense Tensor of unknown shape. \"\n",
            "/home/yinpu/anaconda3/lib/python3.7/site-packages/tensorflow_core/python/framework/indexed_slices.py:433: UserWarning: Converting sparse IndexedSlices to a dense Tensor of unknown shape. This may consume a large amount of memory.\n",
            "  \"Converting sparse IndexedSlices to a dense Tensor of unknown shape. \"\n"
          ],
          "name": "stderr"
        },
        {
          "output_type": "stream",
          "text": [
            "27949/27949 [==============================] - 2s 62us/sample - loss: 0.5083 - AUC: 0.8282 - binary_accuracy: 0.7455\n"
          ],
          "name": "stdout"
        },
        {
          "output_type": "execute_result",
          "data": {
            "text/plain": [
              "[0.5083015842034081, 0.8282367, 0.74550074]"
            ]
          },
          "metadata": {
            "tags": []
          },
          "execution_count": 40
        }
      ]
    },
    {
      "cell_type": "code",
      "metadata": {
        "id": "5hHeT7RASFX2",
        "colab_type": "code",
        "colab": {},
        "outputId": "1100dfbf-1a98-4758-89e1-ef68886fb908"
      },
      "source": [
        "network.evaluate([eval_data[:,0],eval_data[:,1],eval_data[:,1]],eval_data[:,2])"
      ],
      "execution_count": null,
      "outputs": [
        {
          "output_type": "stream",
          "text": [
            "27949/27949 [==============================] - 2s 56us/sample - loss: 0.5106 - AUC: 0.8258 - binary_accuracy: 0.7440\n"
          ],
          "name": "stdout"
        },
        {
          "output_type": "execute_result",
          "data": {
            "text/plain": [
              "[0.5106167498908148, 0.8258266, 0.74403375]"
            ]
          },
          "metadata": {
            "tags": []
          },
          "execution_count": 41
        }
      ]
    },
    {
      "cell_type": "code",
      "metadata": {
        "id": "CsB3huH3SFX5",
        "colab_type": "code",
        "colab": {},
        "outputId": "8b914ad5-7c62-4ad1-e012-92a674a23e22"
      },
      "source": [
        "from matplotlib import pyplot as plt\n",
        "DATASET='book'\n",
        "network = tf.keras.models.load_model('./log/book/model/model_3.h5',custom_objects={'CrossLayer':CrossLayer,'CompressLayer':CompressLayer})\n",
        "n_user, n_item, n_entity, n_relation, train_data, eval_data, test_data, kg =load_data(DATASET)\n",
        "user_num = 100\n",
        "k_list = [1, 2, 5, 10, 20, 50, 100]\n",
        "train_record = get_user_recoed(train_data, True)\n",
        "test_record = get_user_recoed(test_data, False)\n",
        "user_list = list(set(train_record.keys()) & set(test_record.keys()))\n",
        "if len(user_list) > user_num:\n",
        "    user_list = np.random.choice(user_list, size=user_num, replace=False)\n",
        "item_set = set(list(range(n_item)))\n",
        "precision, recall, f1=topk_eval(network,user_list,train_record,test_record,item_set,k_list)\n",
        "data=[precision,recall,f1]\n",
        "x=range(len(k_list))\n",
        "y=[precision[k] for k in k_list]\n",
        "plt.title('topk-precision')\n",
        "plt.xlabel('k(top-k)')\n",
        "plt.ylabel('precision')\n",
        "plt.xticks(x,[1,2,5,10,20,50,100])\n",
        "plt.plot(x,y)\n",
        "plt.show()\n",
        "x=range(len(k_list))\n",
        "y=[recall[k] for k in k_list]\n",
        "plt.title('topk-recall')\n",
        "plt.xlabel('k(top-k)')\n",
        "plt.ylabel('recall')\n",
        "plt.xticks(x,[1,2,5,10,20,50,100])\n",
        "plt.plot(x,y)\n",
        "plt.show()\n",
        "data"
      ],
      "execution_count": null,
      "outputs": [
        {
          "output_type": "stream",
          "text": [
            "/home/yinpu/anaconda3/lib/python3.7/site-packages/tensorflow_core/python/framework/indexed_slices.py:433: UserWarning: Converting sparse IndexedSlices to a dense Tensor of unknown shape. This may consume a large amount of memory.\n",
            "  \"Converting sparse IndexedSlices to a dense Tensor of unknown shape. \"\n",
            "/home/yinpu/anaconda3/lib/python3.7/site-packages/tensorflow_core/python/framework/indexed_slices.py:433: UserWarning: Converting sparse IndexedSlices to a dense Tensor of unknown shape. This may consume a large amount of memory.\n",
            "  \"Converting sparse IndexedSlices to a dense Tensor of unknown shape. \"\n"
          ],
          "name": "stderr"
        },
        {
          "output_type": "stream",
          "text": [
            "reading rating file ....\n",
            "splitting dataset ...\n",
            "reading KG file\n",
            "data loaded\n"
          ],
          "name": "stdout"
        },
        {
          "output_type": "display_data",
          "data": {
            "image/png": "[encoded data removed]",
            "text/plain": [
              "<Figure size 432x288 with 1 Axes>"
            ]
          },
          "metadata": {
            "tags": [],
            "needs_background": "light"
          }
        },
        {
          "output_type": "display_data",
          "data": {
            "image/png": "[encoded data removed]",
            "text/plain": [
              "<Figure size 432x288 with 1 Axes>"
            ]
          },
          "metadata": {
            "tags": [],
            "needs_background": "light"
          }
        },
        {
          "output_type": "execute_result",
          "data": {
            "text/plain": [
              "[{1: 0.13,\n",
              "  2: 0.065,\n",
              "  5: 0.032,\n",
              "  10: 0.017,\n",
              "  20: 0.0085,\n",
              "  50: 0.004,\n",
              "  100: 0.0032000000000000006},\n",
              " {1: 0.092,\n",
              "  2: 0.092,\n",
              "  5: 0.09727777777777778,\n",
              "  10: 0.10727777777777778,\n",
              "  20: 0.10727777777777778,\n",
              "  50: 0.11477777777777778,\n",
              "  100: 0.15985714285714286},\n",
              " {1: 0.10774774774774774,\n",
              "  2: 0.07617834394904459,\n",
              "  5: 0.048158143532445206,\n",
              "  10: 0.029349128296826107,\n",
              "  20: 0.015751919385796547,\n",
              "  50: 0.007730589335827876,\n",
              "  100: 0.006274399859821273}]"
            ]
          },
          "metadata": {
            "tags": []
          },
          "execution_count": 12
        }
      ]
    },
    {
      "cell_type": "markdown",
      "metadata": {
        "id": "9SwtvRibSFX8",
        "colab_type": "text"
      },
      "source": [
        "# 随机测试"
      ]
    },
    {
      "cell_type": "code",
      "metadata": {
        "id": "0PAbzHYDSFX9",
        "colab_type": "code",
        "colab": {}
      },
      "source": [
        "rs_model, kg_model = DFM_MKR_model(n_user, n_item, n_entity, n_relation, dim=DEFAULT[DATASET]['dim'], H=DEFAULT[DATASET]['H'],L=DEFAULT[DATASET]['L'])"
      ],
      "execution_count": null,
      "outputs": []
    },
    {
      "cell_type": "code",
      "metadata": {
        "id": "Tq0lIKQqSFYA",
        "colab_type": "code",
        "colab": {}
      },
      "source": [
        "rs_model.compile(optimizer=tf.optimizers.Adam( DEFAULT[DATASET]['lr_rs']), loss=tf.keras.losses.binary_crossentropy,\n",
        "                     metrics=['AUC', tf.keras.metrics.binary_accuracy])\n",
        "rs_model.evaluate([eval_data[:,0],eval_data[:,1],eval_data[:,1]],eval_data[:,2])"
      ],
      "execution_count": null,
      "outputs": []
    },
    {
      "cell_type": "markdown",
      "metadata": {
        "id": "qPDT2zEYS5lL",
        "colab_type": "text"
      },
      "source": [
        "# 时间"
      ]
    },
    {
      "cell_type": "code",
      "metadata": {
        "id": "XG8I-NuZSFYC",
        "colab_type": "code",
        "colab": {
          "base_uri": "https://localhost:8080/",
          "height": 122
        },
        "outputId": "3a3b920a-b8ff-4686-cfd5-fad41043d64b"
      },
      "source": [
        "from google.colab import drive\n",
        "import os\n",
        "drive.mount(\"/content/drive\")"
      ],
      "execution_count": null,
      "outputs": [
        {
          "output_type": "stream",
          "text": [
            "Go to this URL in a browser: https://accounts.google.com/o/oauth2/auth?client_id=947318989803-6bn6qk8qdgf4n4g3pfee6491hc0brc4i.apps.googleusercontent.com&redirect_uri=urn%3aietf%3awg%3aoauth%3a2.0%3aoob&scope=email%20https%3a%2f%2fwww.googleapis.com%2fauth%2fdocs.test%20https%3a%2f%2fwww.googleapis.com%2fauth%2fdrive%20https%3a%2f%2fwww.googleapis.com%2fauth%2fdrive.photos.readonly%20https%3a%2f%2fwww.googleapis.com%2fauth%2fpeopleapi.readonly&response_type=code\n",
            "\n",
            "Enter your authorization code:\n",
            "··········\n",
            "Mounted at /content/drive\n"
          ],
          "name": "stdout"
        }
      ]
    },
    {
      "cell_type": "code",
      "metadata": {
        "id": "pONOODZgTfFr",
        "colab_type": "code",
        "colab": {}
      },
      "source": [
        ""
      ],
      "execution_count": null,
      "outputs": []
    }
  ]
}