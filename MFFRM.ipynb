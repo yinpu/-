{
  "nbformat": 4,
  "nbformat_minor": 0,
  "metadata": {
    "colab": {
      "name": "MFFRM.ipynb",
      "provenance": [],
      "collapsed_sections": [],
      "toc_visible": true,
      "mount_file_id": "1Y0QcCm2O06IDqT3pqCfVY5CXUyCUyS49",
      "authorship_tag": "ABX9TyMrbF1mbgulG9ncXGdEu2k8",
      "include_colab_link": true
    },
    "kernelspec": {
      "name": "python3",
      "display_name": "Python 3"
    },
    "accelerator": "GPU"
  },
  "cells": [
    {
      "cell_type": "markdown",
      "metadata": {
        "id": "view-in-github",
        "colab_type": "text"
      },
      "source": [
        "<a href=\"https://colab.research.google.com/github/yinpu/deep_learning_study/blob/master/MFFRM.ipynb\" target=\"_parent\"><img src=\"https://colab.research.google.com/assets/colab-badge.svg\" alt=\"Open In Colab\"/></a>"
      ]
    },
    {
      "cell_type": "markdown",
      "metadata": {
        "id": "tJnT1OFQHW7R",
        "colab_type": "text"
      },
      "source": [
        "# MFFRM "
      ]
    },
    {
      "cell_type": "markdown",
      "metadata": {
        "id": "6j7_lNqESFW3",
        "colab_type": "text"
      },
      "source": [
        "## 数据预处理\n",
        "* book -->book-crossing数据集\n",
        "* music -->last.fm数据集\n",
        "* movie -->movielen数据集"
      ]
    },
    {
      "cell_type": "code",
      "metadata": {
        "id": "3iZ8QRG2HpWr",
        "colab_type": "code",
        "colab": {}
      },
      "source": [
        "#数据预处理函数\n",
        "import numpy as np\n",
        "import os\n",
        "import  tensorflow as tf\n",
        "\n",
        "RATING_FILE_NAME={\n",
        "    'movie': 'ratings.dat',\n",
        "    'book':'BX-Book-Ratings.csv',\n",
        "    'music':'user_artists.dat'\n",
        "}\n",
        "SEP={\n",
        "    'movie':'::',\n",
        "    'book':';',\n",
        "    'music':'\\t'\n",
        "}\n",
        "THRESHOLD={\n",
        "    'movie':4,\n",
        "    'book':0,\n",
        "    'music':0\n",
        "}\n",
        "DATASETS={'movie','book','music'}\n",
        "\n",
        "def read_item_index2entity_id_file():\n",
        "    file = './data/'+DATASET+'/item_index2entity_id.txt'\n",
        "    i=0\n",
        "    for line in open(file,encoding='utf-8').readlines():\n",
        "        item_index=line.strip().split('\\t')[0]\n",
        "        satori_id=line.strip().split('\\t')[1]\n",
        "        item_index_old2new[item_index]=i\n",
        "        entity_id2index[satori_id]=i\n",
        "        i+=1\n",
        "        \n",
        "def convert_rating():\n",
        "    file = './data/'+DATASET+'/'+RATING_FILE_NAME[DATASET]\n",
        "    item_set=set(item_index_old2new.values())\n",
        "    user_pos_rating={}\n",
        "    user_neg_rating={}\n",
        "    for line in open(file,encoding='utf-8').readlines():\n",
        "        array =line.strip().split(SEP[DATASET])\n",
        "        if DATASET=='book':\n",
        "            array=list(map(lambda x:x[1:-1],array))\n",
        "        item_index_old=array[1]\n",
        "        if item_index_old not in item_index_old2new:\n",
        "            continue\n",
        "        item_index=item_index_old2new[item_index_old]\n",
        "        user_index_old=int(array[0])\n",
        "        rating=float(array[2])\n",
        "        if rating >=THRESHOLD[DATASET]:\n",
        "            if user_index_old not in user_pos_rating:\n",
        "                user_pos_rating[user_index_old]=set()\n",
        "            user_pos_rating[user_index_old].add(item_index)\n",
        "        else:\n",
        "            if user_index_old not in user_neg_rating:\n",
        "                user_neg_rating[user_index_old]=set()\n",
        "            user_neg_rating[user_index_old].add(item_index)\n",
        "    print('coverting rating file . . .')\n",
        "    writer=open('data/'+DATASET+'/rating_final.txt','w',encoding='utf-8')\n",
        "    user_cnt=0\n",
        "    user_index_old2new={}\n",
        "    for user_index_old,pos_item_set in user_pos_rating.items():\n",
        "        if user_index_old not in user_index_old2new:\n",
        "            user_index_old2new[user_index_old]=user_cnt\n",
        "            user_cnt+=1\n",
        "        user_index=user_index_old2new[user_index_old]\n",
        "        for item in pos_item_set:\n",
        "            writer.write(\"%d\\t%d\\t1\\n\"%(user_index,item))\n",
        "        unwatch_set=item_set-pos_item_set\n",
        "        if user_index_old in user_neg_rating:\n",
        "            unwatch_set-=user_neg_rating[user_index_old]\n",
        "        for item in np.random.choice(list(unwatch_set),size=len(pos_item_set),replace=False):\n",
        "            writer.write(\"%d\\t%d\\t0\\n\"%(user_index,item))\n",
        "    writer.close()\n",
        "    print(\"num of users:\",user_cnt)\n",
        "    print(\"num of item:\",len(item_set))\n",
        "\n",
        "def convert_kg():\n",
        "    print('converting kg.txt file')\n",
        "    entity_cnt=len(entity_id2index)\n",
        "    relation_cnt=0\n",
        "    writer=open('data/'+DATASET+'/kg_final.txt','w',encoding='utf-8')\n",
        "    file=open('data/'+DATASET+'/kg.txt','r',encoding='utf-8')\n",
        "    for line in file:\n",
        "        array=line.strip().split('\\t')\n",
        "        head_old=array[0]\n",
        "        relation_old=array[1]\n",
        "        tail_old=array[2]\n",
        "        if head_old not in entity_id2index:\n",
        "            continue\n",
        "        head=entity_id2index[head_old]\n",
        "        if tail_old not in entity_id2index:\n",
        "            entity_id2index[tail_old]=entity_cnt\n",
        "            entity_cnt+=1\n",
        "        tail=entity_id2index[tail_old]\n",
        "        if relation_old not in relation_id2index:\n",
        "            relation_id2index[relation_old]=relation_cnt\n",
        "            relation_cnt+=1\n",
        "        relation=relation_id2index[relation_old]\n",
        "        writer.write(\"%d\\t%d\\t%d\\n\"%(head,relation,tail))\n",
        "    writer.close()\n",
        "    print('num of entities:',entity_cnt)\n",
        "    print('num of relations:',relation_cnt)"
      ],
      "execution_count": null,
      "outputs": []
    },
    {
      "cell_type": "code",
      "metadata": {
        "id": "XG8I-NuZSFYC",
        "colab_type": "code",
        "colab": {
          "base_uri": "https://localhost:8080/",
          "height": 35
        },
        "outputId": "f30ba13b-82bf-4f03-931c-61537b8bf7b5"
      },
      "source": [
        "from google.colab import drive\n",
        "import os\n",
        "drive.mount(\"/content/drive\")\n",
        "os.chdir('/content/drive/Shared drives/yinpu/MyProject/FFMKR')"
      ],
      "execution_count": null,
      "outputs": [
        {
          "output_type": "stream",
          "text": [
            "Drive already mounted at /content/drive; to attempt to forcibly remount, call drive.mount(\"/content/drive\", force_remount=True).\n"
          ],
          "name": "stdout"
        }
      ]
    },
    {
      "cell_type": "code",
      "metadata": {
        "id": "_aXf42_KSFW9",
        "colab_type": "code",
        "colab": {
          "base_uri": "https://localhost:8080/",
          "height": 395
        },
        "outputId": "08b4cfc1-dd68-4b4b-ec4e-8c18bf5f4b53"
      },
      "source": [
        "#数据集处理\n",
        "for DATASET in DATASETS:\n",
        "    print(DATASET+\"  :   \")\n",
        "    np.random.seed(555)\n",
        "    entity_id2index={}\n",
        "    relation_id2index={}\n",
        "    item_index_old2new={}\n",
        "    read_item_index2entity_id_file()\n",
        "    convert_rating()\n",
        "    convert_kg()"
      ],
      "execution_count": null,
      "outputs": [
        {
          "output_type": "stream",
          "text": [
            "book  :   \n",
            "coverting rating file . . .\n",
            "num of users: 17860\n",
            "num of item: 14910\n",
            "converting kg.txt file\n",
            "num of entities: 24039\n",
            "num of relations: 10\n",
            "music  :   \n",
            "coverting rating file . . .\n",
            "num of users: 1872\n",
            "num of item: 3846\n",
            "converting kg.txt file\n",
            "num of entities: 9366\n",
            "num of relations: 60\n",
            "movie  :   \n",
            "coverting rating file . . .\n",
            "num of users: 6036\n",
            "num of item: 2347\n",
            "converting kg.txt file\n",
            "num of entities: 6729\n",
            "num of relations: 7\n"
          ],
          "name": "stdout"
        }
      ]
    },
    {
      "cell_type": "markdown",
      "metadata": {
        "id": "_UTDSpvrQ4Jw",
        "colab_type": "text"
      },
      "source": [
        "## 数据加载"
      ]
    },
    {
      "cell_type": "code",
      "metadata": {
        "id": "n0vXEJx6Q8yN",
        "colab_type": "code",
        "colab": {}
      },
      "source": [
        "def load_data(DATASET):\n",
        "    n_user,n_item,train_data,eval_data,test_data=load_rating(DATASET)\n",
        "    n_entity,n_relation,kg=load_kg(DATASET)\n",
        "    print('data loaded')\n",
        "    return n_user,n_item,n_entity,n_relation,train_data,eval_data,test_data,kg\n",
        "\n",
        "def load_rating(DATASET):\n",
        "    print('reading rating file ....')\n",
        "    rating_file='data/'+DATASET+'/rating_final'\n",
        "    if os.path.exists(rating_file+'.npy'):\n",
        "        rating_np=np.load(rating_file+'.npy')\n",
        "    else:\n",
        "        rating_np=np.loadtxt(rating_file+'.txt',dtype=np.int32)\n",
        "        np.save(rating_file+'.npy',rating_np)\n",
        "    n_user=len(set(rating_np[:,0]))\n",
        "    n_item=len(set(rating_np[:,1]))\n",
        "    train_data,eval_data,test_data=dataset_split(rating_np)\n",
        "    return n_user,n_item,train_data,eval_data,test_data\n",
        "\n",
        "def dataset_split(rating_np):\n",
        "    print('splitting dataset ...')\n",
        "    eval_ratio=0.2\n",
        "    test_ration=0.2\n",
        "    n_rating=rating_np.shape[0]\n",
        "    eval_indices=np.random.choice(list(range(n_rating)),size=int(n_rating*eval_ratio),replace=False)\n",
        "    left=set(range(n_rating))-set(eval_indices)\n",
        "    test_indices=np.random.choice(list(left),size=int(n_rating*test_ration),replace=False)\n",
        "    train_indices=list(left-set(test_indices))\n",
        "    train_data,eval_data,test_data=rating_np[train_indices],rating_np[eval_indices],rating_np[test_indices]\n",
        "    return train_data,eval_data,test_data\n",
        "def load_kg(DATASET):\n",
        "    print('reading KG file')\n",
        "    kg_file='data/'+DATASET+'/kg_final'\n",
        "    if os.path.exists(kg_file + '.npy'):\n",
        "        kg = np.load(kg_file + '.npy')\n",
        "    else:\n",
        "        kg = np.loadtxt(kg_file + '.txt', dtype=np.int32)\n",
        "        np.save(kg_file + '.npy', kg)\n",
        "    n_entity=len(set(kg[:,0])|set(kg[:,2]))\n",
        "    n_relation=len(set(kg[:,1]))\n",
        "    return n_entity,n_relation,kg"
      ],
      "execution_count": null,
      "outputs": []
    },
    {
      "cell_type": "markdown",
      "metadata": {
        "id": "vgB_qCjmJ9iN",
        "colab_type": "text"
      },
      "source": [
        "## MFFRM模型实现\n",
        "MFFRM由以下三部分组成：\n",
        "* 特征融合单元（仿射变换+交叉压缩单元）\n",
        "* 推荐模块\n",
        "* 知识图谱学习特征模块"
      ]
    },
    {
      "cell_type": "code",
      "metadata": {
        "id": "C53DSMfsIU3X",
        "colab_type": "code",
        "colab": {}
      },
      "source": [
        "#交叉操作\n",
        "class CrossLayer(tf.keras.layers.Layer):\n",
        "    def __init__(self,**kwargs):\n",
        "        super(CrossLayer,self).__init__(**kwargs)\n",
        "    def call(self, inputs,):\n",
        "        v,e=inputs\n",
        "        v=tf.expand_dims(v,axis=2)\n",
        "        e=tf.expand_dims(e,axis=1)\n",
        "        c_matrix=v@e\n",
        "        c_matrix_t=tf.transpose(c_matrix,perm=[0,2,1])\n",
        "        return c_matrix,c_matrix_t,inputs\n",
        "    def get_config(self):\n",
        "        config = {}\n",
        "        base_config = super(CrossLayer, self).get_config()\n",
        "        return dict(list(base_config.items()) + list(config.items()))\n",
        "\n",
        "#交叉压缩单元\n",
        "class CompressLayer(tf.keras.layers.Layer):\n",
        "    def __init__(self,weight_regularizer,**kwargs):\n",
        "        super(CompressLayer,self).__init__(**kwargs)\n",
        "        self.weight_regularizer=tf.keras.regularizers.get(weight_regularizer)\n",
        "    def build(self, input_shape):\n",
        "        self.dim=input_shape[0][-1]\n",
        "        self.kernel=self.add_weight(name='kernel',shape=(self.dim,1),regularizer=self.weight_regularizer)\n",
        "        self.kernel_t=self.add_weight(name='kernel_t',shape=(self.dim,1),regularizer=self.weight_regularizer)\n",
        "        self.bias=self.add_weight(name='bias',shape=(self.dim,),initializer=tf.initializers.zeros)\n",
        "    def call(self, inputs):\n",
        "        c_matrix,c_matrix_t,(v,e)=inputs\n",
        "        c_matrix=tf.reshape(c_matrix,shape=(-1,self.dim))\n",
        "        c_matrix_t=tf.reshape(c_matrix_t,shape=(-1,self.dim))\n",
        "        return tf.reshape(c_matrix@self.kernel+c_matrix_t@self.kernel_t,shape=(-1,self.dim))+v+e+self.bias\n",
        "    def get_config(self):\n",
        "        config = {\n",
        "            'weight_regularizer': tf.keras.regularizers.serialize(self.weight_regularizer)\n",
        "        }\n",
        "        base_config = super(CompressLayer, self).get_config()\n",
        "        return dict(list(base_config.items()) + list(config.items()))\n",
        "\n",
        "#特征融合单元\n",
        "def feature_fusion_unit(inputs,weight_regularizer):\n",
        "    v,e=inputs\n",
        "    dim=v.shape[-1]\n",
        "    v=tf.keras.layers.Dense(dim,activation=None,kernel_regularizer=weight_regularizer)(v)\n",
        "    e=tf.keras.layers.Dense(dim,activation=None,kernel_regularizer=weight_regularizer)(e)\n",
        "    cross_feature_matrix=CrossLayer()((v,e))\n",
        "    v_out=CompressLayer(weight_regularizer)(cross_feature_matrix)\n",
        "    e_out=CompressLayer(weight_regularizer)(cross_feature_matrix)\n",
        "    return v_out,e_out"
      ],
      "execution_count": null,
      "outputs": []
    },
    {
      "cell_type": "code",
      "metadata": {
        "id": "80Wce2PHLOeX",
        "colab_type": "code",
        "colab": {}
      },
      "source": [
        "#MFFRM模型\n",
        "def MFFRM_model(n_user,n_item,n_entity,n_relation,dim=8,L=1,H=1,l2=1e-6,use_inner_product=True):\n",
        "    l2=tf.keras.regularizers.l2(l2)\n",
        "    user_id=tf.keras.Input(shape=(),dtype=tf.int32,name='user_id')\n",
        "    item_id=tf.keras.Input(shape=(),dtype=tf.int32,name='item_id')\n",
        "    head_id=tf.keras.Input(shape=(),dtype=tf.int32,name='head_id')\n",
        "    relation_id=tf.keras.Input(shape=(),dtype=tf.int32,name='relation_id')\n",
        "    tail_id=tf.keras.Input(shape=(),dtype=tf.int32,name='tail_id')\n",
        "    user_embedding=tf.keras.layers.Embedding(input_dim=n_user,output_dim=dim,\n",
        "                                             embeddings_regularizer=l2)\n",
        "    item_embedding=tf.keras.layers.Embedding(input_dim=n_item,output_dim=dim,\n",
        "                                             embeddings_regularizer=l2)\n",
        "    entity_embedding=tf.keras.layers.Embedding(input_dim=n_entity,output_dim=dim,\n",
        "                                               embeddings_regularizer=l2)\n",
        "    relation_embedding=tf.keras.layers.Embedding(input_dim=n_relation,output_dim=dim,\n",
        "                                               embeddings_regularizer=l2)\n",
        "    u=user_embedding(user_id)\n",
        "    i=item_embedding(item_id)\n",
        "    h=entity_embedding(head_id)\n",
        "    t=entity_embedding(tail_id)\n",
        "    r=relation_embedding(relation_id)\n",
        "    for _ in range(L):\n",
        "        u=tf.keras.layers.Dense(dim,activation=tf.keras.activations.relu,kernel_regularizer=l2)(u)\n",
        "        i,h=feature_fusion_unit(inputs=(i,h),weight_regularizer=l2)\n",
        "        t=tf.keras.layers.Dense(dim,activation=tf.keras.activations.relu,kernel_regularizer=l2)(t)\n",
        "\n",
        "    rs=tf.keras.activations.relu(u*i)\n",
        "    for _ in range(H-1):\n",
        "        rs=tf.keras.layers.Dense(dim,activation=tf.keras.activations.relu,kernel_regularizer=l2)(rs)\n",
        "    rs=tf.keras.layers.Dense(1,activation=tf.keras.activations.sigmoid,kernel_regularizer=l2)(rs)\n",
        "\n",
        "    kg = tf.concat([h, r], axis=1)\n",
        "    for _ in range(H - 1):\n",
        "        kg = tf.keras.layers.Dense(dim * 2, activation=tf.keras.activations.relu, kernel_regularizer=l2)(kg)\n",
        "    kg = tf.keras.layers.Dense(dim, activation=tf.keras.activations.sigmoid, kernel_regularizer=l2)(kg)\n",
        "    kg=-tf.keras.activations.sigmoid(tf.reduce_sum(kg*t,axis=1))\n",
        "    return tf.keras.Model(inputs=[user_id,item_id,head_id],outputs=rs),tf.keras.Model(inputs=[item_id,head_id,relation_id,tail_id],outputs=kg)"
      ],
      "execution_count": null,
      "outputs": []
    },
    {
      "cell_type": "markdown",
      "metadata": {
        "id": "MQIWefqKPyoH",
        "colab_type": "text"
      },
      "source": [
        "## 训练函数"
      ]
    },
    {
      "cell_type": "code",
      "metadata": {
        "id": "LoNghUemPnnY",
        "colab_type": "code",
        "colab": {}
      },
      "source": [
        ""
      ],
      "execution_count": null,
      "outputs": []
    },
    {
      "cell_type": "code",
      "metadata": {
        "id": "08hg6gjkSFXO",
        "colab_type": "code",
        "colab": {}
      },
      "source": [
        "def preprocess_rs_data(data):\n",
        "    u = tf.constant(data[:, 0], dtype=tf.int32)\n",
        "    i = tf.constant(data[:, 1], dtype=tf.int32)\n",
        "    h = tf.constant(data[:, 1], dtype=tf.int32)\n",
        "    r = tf.constant(data[:, 2], dtype=tf.float32)\n",
        "    return {'user_id': u, 'item_id': i, 'head_id': h}, r\n",
        "\n",
        "\n",
        "def preprocess_kg_data(data):\n",
        "    i = tf.constant(data[:, 0], dtype=tf.int32)\n",
        "    h = tf.constant(data[:, 0], dtype=tf.int32)\n",
        "    r = tf.constant(data[:, 1], dtype=tf.int32)\n",
        "    t = tf.constant(data[:, 2], dtype=tf.int32)\n",
        "    l = tf.zeros(len(data), dtype=tf.float32)\n",
        "    return {'item_id': i, 'head_id': h, 'relation_id': r, 'tail_id': t}, l\n",
        "\n",
        "\n",
        "def train(DATASET, DEFAULT):\n",
        "    n_user, n_item, n_entity, n_relation, train_data, eval_data, test_data, kg =load_data(DATASET)\n",
        "    rs_model, kg_model = MFFRM_model(n_user, n_item, n_entity, n_relation, dim=DEFAULT[DATASET]['dim'], H=DEFAULT[DATASET]['H'],L=DEFAULT[DATASET]['L'])\n",
        "    epochs = DEFAULT[DATASET]['epochs']\n",
        "    kge_interval = DEFAULT[DATASET]['kge_interval']\n",
        "    batch = DEFAULT[DATASET]['batch_size']\n",
        "    rs_train_ds = tf.data.Dataset.from_tensor_slices(preprocess_rs_data(train_data))\n",
        "    rs_train_ds = rs_train_ds.shuffle(len(train_data)).batch(batch)\n",
        "    rs_eval_ds = tf.data.Dataset.from_tensor_slices(preprocess_rs_data(eval_data))\n",
        "    rs_eval_ds = rs_eval_ds.batch(batch)\n",
        "    kg_train_ds = tf.data.Dataset.from_tensor_slices(preprocess_kg_data(kg))\n",
        "    kg_train_ds = kg_train_ds.shuffle(len(kg)).batch(batch)\n",
        "    rs_model.compile(optimizer=tf.optimizers.Adam( DEFAULT[DATASET]['lr_rs']), loss=tf.keras.losses.binary_crossentropy,\n",
        "                     metrics=['AUC', tf.keras.metrics.binary_accuracy])\n",
        "    kg_model.compile(optimizer=tf.optimizers.Adam(DEFAULT[DATASET]['lr_kg']), loss=lambda y_true, y_pre: y_pre)\n",
        "    for epoch in range(epochs):\n",
        "        history=rs_model.fit(rs_train_ds, epochs=epoch + 1, validation_data=rs_eval_ds, verbose=1, initial_epoch=epoch)\n",
        "        if epoch % kge_interval == 0:\n",
        "            kg_model.fit(kg_train_ds, epochs=epoch + 1, initial_epoch=epoch, verbose=1)\n",
        "        rs_model.save('./log/MFFRM/' + DATASET + '/model_' + str(epoch) + '.h5')\n",
        "    return history"
      ],
      "execution_count": null,
      "outputs": []
    },
    {
      "cell_type": "markdown",
      "metadata": {
        "id": "XmIjm7RaQYb_",
        "colab_type": "text"
      },
      "source": [
        "## 在movielen数据集训练"
      ]
    },
    {
      "cell_type": "code",
      "metadata": {
        "id": "RsmACMhbQVyj",
        "colab_type": "code",
        "colab": {
          "base_uri": "https://localhost:8080/",
          "height": 1000
        },
        "outputId": "36f412bf-ef62-44b8-8b14-75dbc121b8b8"
      },
      "source": [
        "DEFAULT={\n",
        "        'movie': {'epochs': 60, 'dim': 8, 'L': 1, 'H': 1, 'batch_size': 4096, 'lr_rs': 0.02, 'lr_kg': 0.01,\n",
        "                  'kge_interval': 3},\n",
        "        'book': {'epochs': 10, 'dim': 8, 'L': 1, 'H': 1, 'batch_size': 32, 'lr_rs': 2e-4, 'lr_kg': 2e-5,\n",
        "                 'kge_interval': 2},\n",
        "        'music': {'epochs': 10, 'dim': 4, 'L': 2, 'H': 1, 'batch_size': 256, 'lr_rs': 1e-3, 'lr_kg': 2e-4,\n",
        "                  'kge_interval': 2}\n",
        "    }\n",
        "DATASET='movie'\n",
        "tf.random.set_seed(555)\n",
        "history=train(DATASET,DEFAULT)"
      ],
      "execution_count": null,
      "outputs": [
        {
          "output_type": "stream",
          "text": [
            "reading rating file ....\n",
            "splitting dataset ...\n",
            "reading KG file\n",
            "data loaded\n"
          ],
          "name": "stdout"
        },
        {
          "output_type": "stream",
          "text": [
            "/usr/local/lib/python3.6/dist-packages/tensorflow/python/framework/indexed_slices.py:432: UserWarning: Converting sparse IndexedSlices to a dense Tensor of unknown shape. This may consume a large amount of memory.\n",
            "  \"Converting sparse IndexedSlices to a dense Tensor of unknown shape. \"\n"
          ],
          "name": "stderr"
        },
        {
          "output_type": "stream",
          "text": [
            "111/111 [==============================] - 2s 22ms/step - loss: 0.4938 - auc: 0.8423 - binary_accuracy: 0.7575 - val_loss: 0.4257 - val_auc: 0.8861 - val_binary_accuracy: 0.8035\n",
            "5/5 [==============================] - 0s 12ms/step - loss: -0.5267\n",
            "Epoch 2/2\n",
            "111/111 [==============================] - 2s 21ms/step - loss: 0.4190 - auc: 0.8893 - binary_accuracy: 0.8061 - val_loss: 0.4256 - val_auc: 0.8871 - val_binary_accuracy: 0.8043\n",
            "Epoch 3/3\n",
            "111/111 [==============================] - 2s 21ms/step - loss: 0.4133 - auc: 0.8928 - binary_accuracy: 0.8091 - val_loss: 0.4241 - val_auc: 0.8887 - val_binary_accuracy: 0.8068\n",
            "Epoch 4/4\n",
            "111/111 [==============================] - 2s 21ms/step - loss: 0.4057 - auc: 0.8975 - binary_accuracy: 0.8151 - val_loss: 0.4170 - val_auc: 0.8934 - val_binary_accuracy: 0.8137\n",
            "Epoch 4/4\n",
            "5/5 [==============================] - 0s 14ms/step - loss: -0.5897\n",
            "Epoch 5/5\n",
            "111/111 [==============================] - 2s 20ms/step - loss: 0.3940 - auc: 0.9043 - binary_accuracy: 0.8228 - val_loss: 0.4084 - val_auc: 0.8993 - val_binary_accuracy: 0.8218\n",
            "Epoch 6/6\n",
            "111/111 [==============================] - 2s 20ms/step - loss: 0.3810 - auc: 0.9117 - binary_accuracy: 0.8321 - val_loss: 0.4006 - val_auc: 0.9039 - val_binary_accuracy: 0.8271\n",
            "Epoch 7/7\n",
            "111/111 [==============================] - 2s 21ms/step - loss: 0.3722 - auc: 0.9166 - binary_accuracy: 0.8377 - val_loss: 0.3981 - val_auc: 0.9062 - val_binary_accuracy: 0.8298\n",
            "Epoch 7/7\n",
            "5/5 [==============================] - 0s 12ms/step - loss: -0.6647\n",
            "Epoch 8/8\n",
            "111/111 [==============================] - 2s 21ms/step - loss: 0.3667 - auc: 0.9196 - binary_accuracy: 0.8413 - val_loss: 0.4003 - val_auc: 0.9067 - val_binary_accuracy: 0.8290\n",
            "Epoch 9/9\n",
            "111/111 [==============================] - 2s 20ms/step - loss: 0.3616 - auc: 0.9224 - binary_accuracy: 0.8445 - val_loss: 0.3963 - val_auc: 0.9081 - val_binary_accuracy: 0.8306\n",
            "Epoch 10/10\n",
            "111/111 [==============================] - 2s 21ms/step - loss: 0.3578 - auc: 0.9245 - binary_accuracy: 0.8473 - val_loss: 0.3959 - val_auc: 0.9084 - val_binary_accuracy: 0.8315\n",
            "Epoch 10/10\n",
            "5/5 [==============================] - 0s 12ms/step - loss: -0.7481\n",
            "Epoch 11/11\n",
            "111/111 [==============================] - 2s 21ms/step - loss: 0.3544 - auc: 0.9263 - binary_accuracy: 0.8491 - val_loss: 0.3946 - val_auc: 0.9092 - val_binary_accuracy: 0.8327\n",
            "Epoch 12/12\n",
            "111/111 [==============================] - 2s 20ms/step - loss: 0.3511 - auc: 0.9280 - binary_accuracy: 0.8511 - val_loss: 0.3955 - val_auc: 0.9099 - val_binary_accuracy: 0.8337\n",
            "Epoch 13/13\n",
            "111/111 [==============================] - 2s 20ms/step - loss: 0.3482 - auc: 0.9295 - binary_accuracy: 0.8522 - val_loss: 0.3978 - val_auc: 0.9102 - val_binary_accuracy: 0.8333\n",
            "Epoch 13/13\n",
            "5/5 [==============================] - 0s 15ms/step - loss: -0.8304\n",
            "Epoch 14/14\n",
            "111/111 [==============================] - 2s 20ms/step - loss: 0.3468 - auc: 0.9303 - binary_accuracy: 0.8533 - val_loss: 0.3957 - val_auc: 0.9101 - val_binary_accuracy: 0.8336\n",
            "Epoch 15/15\n",
            "111/111 [==============================] - 2s 20ms/step - loss: 0.3443 - auc: 0.9317 - binary_accuracy: 0.8550 - val_loss: 0.3965 - val_auc: 0.9105 - val_binary_accuracy: 0.8341\n",
            "Epoch 16/16\n",
            "111/111 [==============================] - 2s 20ms/step - loss: 0.3424 - auc: 0.9328 - binary_accuracy: 0.8565 - val_loss: 0.3971 - val_auc: 0.9114 - val_binary_accuracy: 0.8347\n",
            "Epoch 16/16\n",
            "5/5 [==============================] - 0s 13ms/step - loss: -0.8937\n",
            "Epoch 17/17\n",
            "111/111 [==============================] - 2s 20ms/step - loss: 0.3404 - auc: 0.9337 - binary_accuracy: 0.8573 - val_loss: 0.3963 - val_auc: 0.9112 - val_binary_accuracy: 0.8351\n",
            "Epoch 18/18\n",
            "111/111 [==============================] - 2s 22ms/step - loss: 0.3372 - auc: 0.9353 - binary_accuracy: 0.8596 - val_loss: 0.3923 - val_auc: 0.9127 - val_binary_accuracy: 0.8357\n",
            "Epoch 19/19\n",
            "111/111 [==============================] - 2s 22ms/step - loss: 0.3348 - auc: 0.9365 - binary_accuracy: 0.8613 - val_loss: 0.3916 - val_auc: 0.9141 - val_binary_accuracy: 0.8379\n",
            "Epoch 19/19\n",
            "5/5 [==============================] - 0s 13ms/step - loss: -0.9273\n",
            "Epoch 20/20\n",
            "111/111 [==============================] - 2s 21ms/step - loss: 0.3325 - auc: 0.9376 - binary_accuracy: 0.8624 - val_loss: 0.3915 - val_auc: 0.9146 - val_binary_accuracy: 0.8382\n",
            "Epoch 21/21\n",
            "111/111 [==============================] - 2s 21ms/step - loss: 0.3298 - auc: 0.9389 - binary_accuracy: 0.8636 - val_loss: 0.3920 - val_auc: 0.9154 - val_binary_accuracy: 0.8380\n",
            "Epoch 22/22\n",
            "111/111 [==============================] - 2s 20ms/step - loss: 0.3274 - auc: 0.9400 - binary_accuracy: 0.8657 - val_loss: 0.3885 - val_auc: 0.9164 - val_binary_accuracy: 0.8405\n",
            "Epoch 22/22\n",
            "5/5 [==============================] - 0s 13ms/step - loss: -0.9452\n",
            "Epoch 23/23\n",
            "111/111 [==============================] - 2s 21ms/step - loss: 0.3249 - auc: 0.9410 - binary_accuracy: 0.8666 - val_loss: 0.3881 - val_auc: 0.9167 - val_binary_accuracy: 0.8409\n",
            "Epoch 24/24\n",
            "111/111 [==============================] - 2s 21ms/step - loss: 0.3235 - auc: 0.9417 - binary_accuracy: 0.8677 - val_loss: 0.3872 - val_auc: 0.9167 - val_binary_accuracy: 0.8416\n",
            "Epoch 25/25\n",
            "111/111 [==============================] - 2s 20ms/step - loss: 0.3218 - auc: 0.9424 - binary_accuracy: 0.8686 - val_loss: 0.3878 - val_auc: 0.9171 - val_binary_accuracy: 0.8412\n",
            "Epoch 25/25\n",
            "5/5 [==============================] - 0s 15ms/step - loss: -0.9557\n",
            "Epoch 26/26\n",
            "111/111 [==============================] - 2s 21ms/step - loss: 0.3220 - auc: 0.9424 - binary_accuracy: 0.8684 - val_loss: 0.3862 - val_auc: 0.9176 - val_binary_accuracy: 0.8420\n",
            "Epoch 27/27\n",
            "111/111 [==============================] - 2s 21ms/step - loss: 0.3192 - auc: 0.9435 - binary_accuracy: 0.8698 - val_loss: 0.3867 - val_auc: 0.9173 - val_binary_accuracy: 0.8408\n",
            "Epoch 28/28\n",
            "111/111 [==============================] - 2s 21ms/step - loss: 0.3190 - auc: 0.9437 - binary_accuracy: 0.8706 - val_loss: 0.3871 - val_auc: 0.9173 - val_binary_accuracy: 0.8416\n",
            "Epoch 28/28\n",
            "5/5 [==============================] - 0s 12ms/step - loss: -0.9620\n",
            "Epoch 29/29\n",
            "111/111 [==============================] - 2s 21ms/step - loss: 0.3177 - auc: 0.9441 - binary_accuracy: 0.8712 - val_loss: 0.3884 - val_auc: 0.9177 - val_binary_accuracy: 0.8428\n",
            "Epoch 30/30\n",
            "111/111 [==============================] - 2s 21ms/step - loss: 0.3168 - auc: 0.9446 - binary_accuracy: 0.8712 - val_loss: 0.3885 - val_auc: 0.9167 - val_binary_accuracy: 0.8401\n",
            "Epoch 31/31\n",
            "111/111 [==============================] - 2s 20ms/step - loss: 0.3159 - auc: 0.9450 - binary_accuracy: 0.8719 - val_loss: 0.3903 - val_auc: 0.9169 - val_binary_accuracy: 0.8410\n",
            "Epoch 31/31\n",
            "5/5 [==============================] - 0s 13ms/step - loss: -0.9662\n",
            "Epoch 32/32\n",
            "111/111 [==============================] - 2s 21ms/step - loss: 0.3164 - auc: 0.9448 - binary_accuracy: 0.8717 - val_loss: 0.3907 - val_auc: 0.9176 - val_binary_accuracy: 0.8422\n",
            "Epoch 33/33\n",
            "111/111 [==============================] - 2s 21ms/step - loss: 0.3140 - auc: 0.9457 - binary_accuracy: 0.8726 - val_loss: 0.3929 - val_auc: 0.9178 - val_binary_accuracy: 0.8424\n",
            "Epoch 34/34\n",
            "111/111 [==============================] - 2s 21ms/step - loss: 0.3135 - auc: 0.9459 - binary_accuracy: 0.8731 - val_loss: 0.3867 - val_auc: 0.9180 - val_binary_accuracy: 0.8421\n",
            "Epoch 34/34\n",
            "5/5 [==============================] - 0s 16ms/step - loss: -0.9694\n",
            "Epoch 35/35\n",
            "111/111 [==============================] - 2s 21ms/step - loss: 0.3135 - auc: 0.9459 - binary_accuracy: 0.8737 - val_loss: 0.3864 - val_auc: 0.9173 - val_binary_accuracy: 0.8416\n",
            "Epoch 36/36\n",
            "111/111 [==============================] - 2s 21ms/step - loss: 0.3127 - auc: 0.9463 - binary_accuracy: 0.8739 - val_loss: 0.3915 - val_auc: 0.9180 - val_binary_accuracy: 0.8424\n",
            "Epoch 37/37\n",
            "111/111 [==============================] - 2s 21ms/step - loss: 0.3127 - auc: 0.9463 - binary_accuracy: 0.8740 - val_loss: 0.3893 - val_auc: 0.9184 - val_binary_accuracy: 0.8426\n",
            "Epoch 37/37\n",
            "5/5 [==============================] - 0s 12ms/step - loss: -0.9719\n",
            "Epoch 38/38\n",
            "111/111 [==============================] - 2s 21ms/step - loss: 0.3118 - auc: 0.9465 - binary_accuracy: 0.8739 - val_loss: 0.3883 - val_auc: 0.9176 - val_binary_accuracy: 0.8416\n",
            "Epoch 39/39\n",
            "111/111 [==============================] - 2s 21ms/step - loss: 0.3106 - auc: 0.9470 - binary_accuracy: 0.8749 - val_loss: 0.3880 - val_auc: 0.9180 - val_binary_accuracy: 0.8431\n",
            "Epoch 40/40\n",
            "111/111 [==============================] - 2s 21ms/step - loss: 0.3102 - auc: 0.9473 - binary_accuracy: 0.8748 - val_loss: 0.3930 - val_auc: 0.9176 - val_binary_accuracy: 0.8421\n",
            "Epoch 40/40\n",
            "5/5 [==============================] - 0s 14ms/step - loss: -0.9739\n",
            "Epoch 41/41\n",
            "111/111 [==============================] - 2s 20ms/step - loss: 0.3101 - auc: 0.9472 - binary_accuracy: 0.8747 - val_loss: 0.3905 - val_auc: 0.9181 - val_binary_accuracy: 0.8420\n",
            "Epoch 42/42\n",
            "111/111 [==============================] - 2s 20ms/step - loss: 0.3092 - auc: 0.9476 - binary_accuracy: 0.8756 - val_loss: 0.3905 - val_auc: 0.9179 - val_binary_accuracy: 0.8431\n",
            "Epoch 43/43\n",
            "111/111 [==============================] - 2s 21ms/step - loss: 0.3091 - auc: 0.9477 - binary_accuracy: 0.8759 - val_loss: 0.3891 - val_auc: 0.9187 - val_binary_accuracy: 0.8443\n",
            "Epoch 43/43\n",
            "5/5 [==============================] - 0s 12ms/step - loss: -0.9754\n",
            "Epoch 44/44\n",
            "111/111 [==============================] - 2s 21ms/step - loss: 0.3089 - auc: 0.9477 - binary_accuracy: 0.8756 - val_loss: 0.3895 - val_auc: 0.9187 - val_binary_accuracy: 0.8438\n",
            "Epoch 45/45\n",
            "111/111 [==============================] - 2s 21ms/step - loss: 0.3076 - auc: 0.9482 - binary_accuracy: 0.8768 - val_loss: 0.3902 - val_auc: 0.9174 - val_binary_accuracy: 0.8424\n",
            "Epoch 46/46\n",
            "111/111 [==============================] - 2s 21ms/step - loss: 0.3079 - auc: 0.9482 - binary_accuracy: 0.8765 - val_loss: 0.3896 - val_auc: 0.9187 - val_binary_accuracy: 0.8427\n",
            "Epoch 46/46\n",
            "5/5 [==============================] - 0s 15ms/step - loss: -0.9769\n",
            "Epoch 47/47\n",
            "111/111 [==============================] - 2s 20ms/step - loss: 0.3071 - auc: 0.9484 - binary_accuracy: 0.8770 - val_loss: 0.3886 - val_auc: 0.9185 - val_binary_accuracy: 0.8427\n",
            "Epoch 48/48\n",
            "111/111 [==============================] - 2s 20ms/step - loss: 0.3073 - auc: 0.9483 - binary_accuracy: 0.8766 - val_loss: 0.3917 - val_auc: 0.9171 - val_binary_accuracy: 0.8417\n",
            "Epoch 49/49\n",
            "111/111 [==============================] - 2s 21ms/step - loss: 0.3064 - auc: 0.9488 - binary_accuracy: 0.8775 - val_loss: 0.3909 - val_auc: 0.9187 - val_binary_accuracy: 0.8429\n",
            "Epoch 49/49\n",
            "5/5 [==============================] - 0s 12ms/step - loss: -0.9779\n",
            "Epoch 50/50\n",
            "111/111 [==============================] - 2s 21ms/step - loss: 0.3059 - auc: 0.9488 - binary_accuracy: 0.8775 - val_loss: 0.3905 - val_auc: 0.9183 - val_binary_accuracy: 0.8427\n",
            "Epoch 51/51\n",
            "111/111 [==============================] - 2s 20ms/step - loss: 0.3065 - auc: 0.9487 - binary_accuracy: 0.8773 - val_loss: 0.3925 - val_auc: 0.9178 - val_binary_accuracy: 0.8416\n",
            "Epoch 52/52\n",
            "111/111 [==============================] - 2s 21ms/step - loss: 0.3054 - auc: 0.9491 - binary_accuracy: 0.8778 - val_loss: 0.3903 - val_auc: 0.9176 - val_binary_accuracy: 0.8409\n",
            "Epoch 52/52\n",
            "5/5 [==============================] - 0s 15ms/step - loss: -0.9789\n",
            "Epoch 53/53\n",
            "111/111 [==============================] - 2s 21ms/step - loss: 0.3055 - auc: 0.9490 - binary_accuracy: 0.8776 - val_loss: 0.3875 - val_auc: 0.9183 - val_binary_accuracy: 0.8430\n",
            "Epoch 54/54\n",
            "111/111 [==============================] - 2s 21ms/step - loss: 0.3046 - auc: 0.9493 - binary_accuracy: 0.8781 - val_loss: 0.3906 - val_auc: 0.9175 - val_binary_accuracy: 0.8404\n",
            "Epoch 55/55\n",
            "111/111 [==============================] - 2s 21ms/step - loss: 0.3046 - auc: 0.9494 - binary_accuracy: 0.8780 - val_loss: 0.3904 - val_auc: 0.9185 - val_binary_accuracy: 0.8442\n",
            "Epoch 55/55\n",
            "5/5 [==============================] - 0s 16ms/step - loss: -0.9798\n",
            "Epoch 56/56\n",
            "111/111 [==============================] - 2s 21ms/step - loss: 0.3047 - auc: 0.9493 - binary_accuracy: 0.8785 - val_loss: 0.3885 - val_auc: 0.9191 - val_binary_accuracy: 0.8440\n",
            "Epoch 57/57\n",
            "111/111 [==============================] - 2s 20ms/step - loss: 0.3040 - auc: 0.9496 - binary_accuracy: 0.8789 - val_loss: 0.3929 - val_auc: 0.9185 - val_binary_accuracy: 0.8434\n",
            "Epoch 58/58\n",
            "111/111 [==============================] - 2s 21ms/step - loss: 0.3033 - auc: 0.9499 - binary_accuracy: 0.8786 - val_loss: 0.3884 - val_auc: 0.9191 - val_binary_accuracy: 0.8442\n",
            "Epoch 58/58\n",
            "5/5 [==============================] - 0s 13ms/step - loss: -0.9804\n",
            "Epoch 59/59\n",
            "111/111 [==============================] - 2s 21ms/step - loss: 0.3037 - auc: 0.9497 - binary_accuracy: 0.8786 - val_loss: 0.3913 - val_auc: 0.9182 - val_binary_accuracy: 0.8433\n",
            "Epoch 60/60\n",
            "111/111 [==============================] - 2s 21ms/step - loss: 0.3040 - auc: 0.9496 - binary_accuracy: 0.8789 - val_loss: 0.3913 - val_auc: 0.9182 - val_binary_accuracy: 0.8433\n"
          ],
          "name": "stdout"
        }
      ]
    },
    {
      "cell_type": "markdown",
      "metadata": {
        "id": "M7YcxsmQTe2l",
        "colab_type": "text"
      },
      "source": [
        "## 在movielen上进行测试"
      ]
    },
    {
      "cell_type": "code",
      "metadata": {
        "id": "P91nNBgDQg4w",
        "colab_type": "code",
        "colab": {
          "base_uri": "https://localhost:8080/",
          "height": 107
        },
        "outputId": "9b621e23-e7bd-4b9c-f62a-61c39e31c54c"
      },
      "source": [
        "#测试ctr\n",
        "n_user, n_item, n_entity, n_relation, train_data, eval_data, test_data, kg =load_data(DATASET)\n",
        "network = tf.keras.models.load_model('./log/MFFRM/movie/model_59.h5',custom_objects={'CrossLayer':CrossLayer,'CompressLayer':CompressLayer})\n",
        "result=network.evaluate([test_data[:,0],test_data[:,1],test_data[:,1]],test_data[:,2])"
      ],
      "execution_count": null,
      "outputs": [
        {
          "output_type": "stream",
          "text": [
            "reading rating file ....\n",
            "splitting dataset ...\n",
            "reading KG file\n",
            "data loaded\n",
            "4712/4712 [==============================] - 16s 3ms/step - loss: 0.3253 - auc: 0.9428 - binary_accuracy: 0.8733\n"
          ],
          "name": "stdout"
        }
      ]
    },
    {
      "cell_type": "code",
      "metadata": {
        "id": "bawtyXz6Tddx",
        "colab_type": "code",
        "colab": {
          "base_uri": "https://localhost:8080/",
          "height": 53
        },
        "outputId": "cf4cb5ca-f598-4a30-a933-3d4a901428ec"
      },
      "source": [
        "print(\"MFFRM在测试集上auc：\"+str(result[1]))\n",
        "print(\"MFFRM在测试集上acc：\"+str(result[2]))"
      ],
      "execution_count": null,
      "outputs": [
        {
          "output_type": "stream",
          "text": [
            "MFFRM在测试集上auc：0.9428346157073975\n",
            "MFFRM在测试集上acc：0.8732902407646179\n"
          ],
          "name": "stdout"
        }
      ]
    },
    {
      "cell_type": "markdown",
      "metadata": {
        "id": "GVd-OMy_YdnZ",
        "colab_type": "text"
      },
      "source": [
        "## 在book-crossing数据集训练"
      ]
    },
    {
      "cell_type": "code",
      "metadata": {
        "id": "mabN2XPBYYuT",
        "colab_type": "code",
        "colab": {
          "base_uri": "https://localhost:8080/",
          "height": 629
        },
        "outputId": "9eec32ce-108c-49dd-b1fe-3c236a5f6421"
      },
      "source": [
        "DATASET='book'\n",
        "tf.random.set_seed(555)\n",
        "history=train(DATASET,DEFAULT)"
      ],
      "execution_count": null,
      "outputs": [
        {
          "output_type": "stream",
          "text": [
            "reading rating file ....\n",
            "splitting dataset ...\n",
            "reading KG file\n",
            "data loaded\n"
          ],
          "name": "stdout"
        },
        {
          "output_type": "stream",
          "text": [
            "/usr/local/lib/python3.6/dist-packages/tensorflow/python/framework/indexed_slices.py:432: UserWarning: Converting sparse IndexedSlices to a dense Tensor of unknown shape. This may consume a large amount of memory.\n",
            "  \"Converting sparse IndexedSlices to a dense Tensor of unknown shape. \"\n"
          ],
          "name": "stderr"
        },
        {
          "output_type": "stream",
          "text": [
            "2621/2621 [==============================] - 22s 9ms/step - loss: 0.6500 - auc: 0.6532 - binary_accuracy: 0.5915 - val_loss: 0.5839 - val_auc: 0.7366 - val_binary_accuracy: 0.7025\n",
            "619/619 [==============================] - 3s 5ms/step - loss: -0.5066\n",
            "Epoch 2/2\n",
            "2621/2621 [==============================] - 21s 8ms/step - loss: 0.5430 - auc: 0.7945 - binary_accuracy: 0.7360 - val_loss: 0.5776 - val_auc: 0.7428 - val_binary_accuracy: 0.7031\n",
            "Epoch 3/3\n",
            "2621/2621 [==============================] - 21s 8ms/step - loss: 0.4990 - auc: 0.8359 - binary_accuracy: 0.7552 - val_loss: 0.6060 - val_auc: 0.7416 - val_binary_accuracy: 0.6986\n",
            "Epoch 3/3\n",
            "619/619 [==============================] - 3s 5ms/step - loss: -0.5200\n",
            "Epoch 4/4\n",
            "2621/2621 [==============================] - 21s 8ms/step - loss: 0.4744 - auc: 0.8522 - binary_accuracy: 0.7620 - val_loss: 0.6388 - val_auc: 0.7380 - val_binary_accuracy: 0.6973\n",
            "Epoch 5/5\n",
            "2621/2621 [==============================] - 21s 8ms/step - loss: 0.4497 - auc: 0.8666 - binary_accuracy: 0.7653 - val_loss: 0.6869 - val_auc: 0.7304 - val_binary_accuracy: 0.6914\n",
            "Epoch 5/5\n",
            "619/619 [==============================] - 3s 5ms/step - loss: -0.5347\n",
            "Epoch 6/6\n",
            "2621/2621 [==============================] - 21s 8ms/step - loss: 0.4272 - auc: 0.8783 - binary_accuracy: 0.7727 - val_loss: 0.7621 - val_auc: 0.7189 - val_binary_accuracy: 0.6773\n",
            "Epoch 7/7\n",
            "2621/2621 [==============================] - 21s 8ms/step - loss: 0.4059 - auc: 0.8901 - binary_accuracy: 0.7890 - val_loss: 0.8377 - val_auc: 0.7071 - val_binary_accuracy: 0.6579\n",
            "Epoch 7/7\n",
            "619/619 [==============================] - 3s 5ms/step - loss: -0.5514\n",
            "Epoch 8/8\n",
            "2621/2621 [==============================] - 21s 8ms/step - loss: 0.3882 - auc: 0.8992 - binary_accuracy: 0.8011 - val_loss: 0.9202 - val_auc: 0.6945 - val_binary_accuracy: 0.6479\n",
            "Epoch 9/9\n",
            "2621/2621 [==============================] - 21s 8ms/step - loss: 0.3723 - auc: 0.9071 - binary_accuracy: 0.8064 - val_loss: 1.0271 - val_auc: 0.6864 - val_binary_accuracy: 0.6396\n",
            "Epoch 9/9\n",
            "619/619 [==============================] - 3s 5ms/step - loss: -0.5709\n",
            "Epoch 10/10\n",
            "2621/2621 [==============================] - 21s 8ms/step - loss: 0.3577 - auc: 0.9140 - binary_accuracy: 0.8129 - val_loss: 1.1166 - val_auc: 0.6794 - val_binary_accuracy: 0.6332\n"
          ],
          "name": "stdout"
        }
      ]
    },
    {
      "cell_type": "markdown",
      "metadata": {
        "id": "ABoexhe9ZlEF",
        "colab_type": "text"
      },
      "source": [
        "## 在book-crossing上测试"
      ]
    },
    {
      "cell_type": "code",
      "metadata": {
        "id": "Vk-eREUpYnmF",
        "colab_type": "code",
        "colab": {
          "base_uri": "https://localhost:8080/",
          "height": 143
        },
        "outputId": "433865a1-c9a0-4499-9c6a-0698a17f3221"
      },
      "source": [
        "n_user, n_item, n_entity, n_relation, train_data, eval_data, test_data, kg =load_data(DATASET)\n",
        "network = tf.keras.models.load_model('./log/MFFRM/book/model_2.h5',custom_objects={'CrossLayer':CrossLayer,'CompressLayer':CompressLayer})\n",
        "result=network.evaluate([test_data[:,0],test_data[:,1],test_data[:,1]],test_data[:,2])\n",
        "print(\"MFFRM在测试集上auc：\"+str(result[1]))\n",
        "print(\"MFFRM在测试集上acc：\"+str(result[2]))"
      ],
      "execution_count": null,
      "outputs": [
        {
          "output_type": "stream",
          "text": [
            "reading rating file ....\n",
            "splitting dataset ...\n",
            "reading KG file\n",
            "data loaded\n",
            "874/874 [==============================] - 3s 4ms/step - loss: 0.5149 - auc_3: 0.8216 - binary_accuracy: 0.7468\n",
            "MFFRM在测试集上auc：0.8215720653533936\n",
            "MFFRM在测试集上acc：0.7467887997627258\n"
          ],
          "name": "stdout"
        }
      ]
    },
    {
      "cell_type": "markdown",
      "metadata": {
        "id": "58Vy8bQ5afng",
        "colab_type": "text"
      },
      "source": [
        "## 在last.FM数据集上训练"
      ]
    },
    {
      "cell_type": "code",
      "metadata": {
        "id": "wiXSVwzfZugv",
        "colab_type": "code",
        "colab": {
          "base_uri": "https://localhost:8080/",
          "height": 1000
        },
        "outputId": "264730d1-1400-42c9-96ef-0014a0afc150"
      },
      "source": [
        "DEFAULT={\n",
        "        'movie': {'epochs': 60, 'dim': 8, 'L': 1, 'H': 1, 'batch_size': 4096, 'lr_rs': 0.02, 'lr_kg': 0.01,\n",
        "                  'kge_interval': 3},\n",
        "        'book': {'epochs': 10, 'dim': 8, 'L': 1, 'H': 1, 'batch_size': 32, 'lr_rs': 2e-4, 'lr_kg': 2e-5,\n",
        "                 'kge_interval': 2},\n",
        "        'music': {'epochs': 20, 'dim': 4, 'L': 2, 'H': 1, 'batch_size': 128, 'lr_rs': 1e-4, 'lr_kg': 2e-4,\n",
        "                  'kge_interval': 2}\n",
        "    }\n",
        "DATASET='music'\n",
        "tf.random.set_seed(555)\n",
        "history=train(DATASET,DEFAULT)"
      ],
      "execution_count": null,
      "outputs": [
        {
          "output_type": "stream",
          "text": [
            "reading rating file ....\n",
            "splitting dataset ...\n",
            "reading KG file\n",
            "data loaded\n"
          ],
          "name": "stdout"
        },
        {
          "output_type": "stream",
          "text": [
            "/usr/local/lib/python3.6/dist-packages/tensorflow/python/framework/indexed_slices.py:432: UserWarning: Converting sparse IndexedSlices to a dense Tensor of unknown shape. This may consume a large amount of memory.\n",
            "  \"Converting sparse IndexedSlices to a dense Tensor of unknown shape. \"\n"
          ],
          "name": "stderr"
        },
        {
          "output_type": "stream",
          "text": [
            "199/199 [==============================] - 2s 10ms/step - loss: 0.6932 - auc: 0.5000 - binary_accuracy: 0.5124 - val_loss: 0.6932 - val_auc: 0.5000 - val_binary_accuracy: 0.5481\n",
            "122/122 [==============================] - 1s 5ms/step - loss: -0.5104\n",
            "Epoch 2/2\n",
            "199/199 [==============================] - 2s 8ms/step - loss: 0.6932 - auc: 0.5003 - binary_accuracy: 0.5026 - val_loss: 0.6931 - val_auc: 0.5027 - val_binary_accuracy: 0.4965\n",
            "Epoch 3/3\n",
            "199/199 [==============================] - 2s 8ms/step - loss: 0.6925 - auc: 0.6063 - binary_accuracy: 0.5134 - val_loss: 0.6913 - val_auc: 0.6733 - val_binary_accuracy: 0.5898\n",
            "Epoch 3/3\n",
            "122/122 [==============================] - 1s 5ms/step - loss: -0.5379\n",
            "Epoch 4/4\n",
            "199/199 [==============================] - 2s 8ms/step - loss: 0.6878 - auc: 0.7242 - binary_accuracy: 0.5100 - val_loss: 0.6825 - val_auc: 0.7446 - val_binary_accuracy: 0.5251\n",
            "Epoch 5/5\n",
            "199/199 [==============================] - 2s 8ms/step - loss: 0.6592 - auc: 0.8050 - binary_accuracy: 0.6751 - val_loss: 0.6379 - val_auc: 0.7721 - val_binary_accuracy: 0.6887\n",
            "Epoch 5/5\n",
            "122/122 [==============================] - 1s 5ms/step - loss: -0.5829\n",
            "Epoch 6/6\n",
            "199/199 [==============================] - 2s 8ms/step - loss: 0.5969 - auc: 0.8139 - binary_accuracy: 0.6593 - val_loss: 0.5782 - val_auc: 0.7757 - val_binary_accuracy: 0.7048\n",
            "Epoch 7/7\n",
            "199/199 [==============================] - 2s 8ms/step - loss: 0.5196 - auc: 0.8386 - binary_accuracy: 0.7663 - val_loss: 0.5435 - val_auc: 0.7832 - val_binary_accuracy: 0.7314\n",
            "Epoch 7/7\n",
            "122/122 [==============================] - 1s 5ms/step - loss: -0.6499\n",
            "Epoch 8/8\n",
            "199/199 [==============================] - 2s 8ms/step - loss: 0.5020 - auc: 0.8401 - binary_accuracy: 0.7606 - val_loss: 0.5474 - val_auc: 0.7824 - val_binary_accuracy: 0.7278\n",
            "Epoch 9/9\n",
            "199/199 [==============================] - 2s 8ms/step - loss: 0.4742 - auc: 0.8564 - binary_accuracy: 0.7716 - val_loss: 0.5490 - val_auc: 0.7850 - val_binary_accuracy: 0.7314\n",
            "Epoch 9/9\n",
            "122/122 [==============================] - 1s 5ms/step - loss: -0.7289\n",
            "Epoch 10/10\n",
            "199/199 [==============================] - 2s 8ms/step - loss: 0.4729 - auc: 0.8562 - binary_accuracy: 0.7695 - val_loss: 0.5581 - val_auc: 0.7840 - val_binary_accuracy: 0.7255\n",
            "Epoch 11/11\n",
            "199/199 [==============================] - 2s 8ms/step - loss: 0.4583 - auc: 0.8650 - binary_accuracy: 0.7754 - val_loss: 0.5594 - val_auc: 0.7856 - val_binary_accuracy: 0.7287\n",
            "Epoch 11/11\n",
            "122/122 [==============================] - 1s 5ms/step - loss: -0.7927\n",
            "Epoch 12/12\n",
            "199/199 [==============================] - 2s 8ms/step - loss: 0.4537 - auc: 0.8672 - binary_accuracy: 0.7774 - val_loss: 0.5669 - val_auc: 0.7854 - val_binary_accuracy: 0.7269\n",
            "Epoch 13/13\n",
            "199/199 [==============================] - 2s 8ms/step - loss: 0.4455 - auc: 0.8721 - binary_accuracy: 0.7814 - val_loss: 0.5690 - val_auc: 0.7860 - val_binary_accuracy: 0.7307\n",
            "Epoch 13/13\n",
            "122/122 [==============================] - 1s 5ms/step - loss: -0.8393\n",
            "Epoch 14/14\n",
            "199/199 [==============================] - 2s 8ms/step - loss: 0.4403 - auc: 0.8749 - binary_accuracy: 0.7825 - val_loss: 0.5762 - val_auc: 0.7859 - val_binary_accuracy: 0.7324\n",
            "Epoch 15/15\n",
            "199/199 [==============================] - 2s 8ms/step - loss: 0.4342 - auc: 0.8786 - binary_accuracy: 0.7856 - val_loss: 0.5809 - val_auc: 0.7860 - val_binary_accuracy: 0.7323\n",
            "Epoch 15/15\n",
            "122/122 [==============================] - 1s 5ms/step - loss: -0.8734\n",
            "Epoch 16/16\n",
            "199/199 [==============================] - 2s 8ms/step - loss: 0.4293 - auc: 0.8812 - binary_accuracy: 0.7872 - val_loss: 0.5873 - val_auc: 0.7859 - val_binary_accuracy: 0.7315\n",
            "Epoch 17/17\n",
            "199/199 [==============================] - 2s 8ms/step - loss: 0.4241 - auc: 0.8841 - binary_accuracy: 0.7887 - val_loss: 0.5904 - val_auc: 0.7860 - val_binary_accuracy: 0.7341\n",
            "Epoch 17/17\n",
            "122/122 [==============================] - 1s 5ms/step - loss: -0.8990\n",
            "Epoch 18/18\n",
            "199/199 [==============================] - 2s 8ms/step - loss: 0.4195 - auc: 0.8864 - binary_accuracy: 0.7904 - val_loss: 0.5951 - val_auc: 0.7859 - val_binary_accuracy: 0.7359\n",
            "Epoch 19/19\n",
            "199/199 [==============================] - 2s 8ms/step - loss: 0.4148 - auc: 0.8889 - binary_accuracy: 0.7924 - val_loss: 0.6015 - val_auc: 0.7860 - val_binary_accuracy: 0.7368\n",
            "Epoch 19/19\n",
            "122/122 [==============================] - 1s 5ms/step - loss: -0.9183\n",
            "Epoch 20/20\n",
            "199/199 [==============================] - 2s 8ms/step - loss: 0.4105 - auc: 0.8910 - binary_accuracy: 0.7940 - val_loss: 0.6081 - val_auc: 0.7855 - val_binary_accuracy: 0.7343\n"
          ],
          "name": "stdout"
        }
      ]
    },
    {
      "cell_type": "markdown",
      "metadata": {
        "id": "Z6_O47XndOKr",
        "colab_type": "text"
      },
      "source": [
        "## 在last.FM上测试"
      ]
    },
    {
      "cell_type": "code",
      "metadata": {
        "id": "3ob9nlPNUOKT",
        "colab_type": "code",
        "colab": {
          "base_uri": "https://localhost:8080/",
          "height": 143
        },
        "outputId": "32a51507-8f1c-477e-d024-409cf0c4feb5"
      },
      "source": [
        "n_user, n_item, n_entity, n_relation, train_data, eval_data, test_data, kg =load_data(DATASET)\n",
        "network = tf.keras.models.load_model('./log/MFFRM/music/model_18.h5',custom_objects={'CrossLayer':CrossLayer,'CompressLayer':CompressLayer})\n",
        "result=network.evaluate([test_data[:,0],test_data[:,1],test_data[:,1]],test_data[:,2])\n",
        "print(\"MFFRM在测试集上auc：\"+str(result[1]))\n",
        "print(\"MFFRM在测试集上acc：\"+str(result[2]))"
      ],
      "execution_count": null,
      "outputs": [
        {
          "output_type": "stream",
          "text": [
            "reading rating file ....\n",
            "splitting dataset ...\n",
            "reading KG file\n",
            "data loaded\n",
            "265/265 [==============================] - 1s 4ms/step - loss: 0.4933 - auc_7: 0.8466 - binary_accuracy: 0.7667\n",
            "MFFRM在测试集上auc：0.8465502262115479\n",
            "MFFRM在测试集上acc：0.7666784524917603\n"
          ],
          "name": "stdout"
        }
      ]
    },
    {
      "cell_type": "code",
      "metadata": {
        "id": "x4G-nIj3hpQT",
        "colab_type": "code",
        "colab": {}
      },
      "source": [
        ""
      ],
      "execution_count": null,
      "outputs": []
    }
  ]
}